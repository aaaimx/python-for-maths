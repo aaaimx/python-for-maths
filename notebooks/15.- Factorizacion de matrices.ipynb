{
 "cells": [
  {
   "cell_type": "code",
   "execution_count": 2,
   "metadata": {},
   "outputs": [],
   "source": [
    "from sympy import *\n",
    "init_printing(use_latex='mathjax')\n",
    "x, y, z = symbols('x, y, z')"
   ]
  },
  {
   "cell_type": "markdown",
   "metadata": {},
   "source": [
    "Para muchos cálculos que se realizan con matrices, es más útil tener la matriz expresada como un **producto de matrices**. Naturalmente para que esto sea útil, estas nuevas matrices tienen que ser de tipos más sencillos que la original."
   ]
  },
  {
   "cell_type": "markdown",
   "metadata": {},
   "source": [
    "Dada una matriz cuadrada, se puede interpretar como una **aplicación lineal de un espacio vectorial en si mismo**. La matriz está escrita con respecto a una base, pero podemos utilizar otra base y entonces la forma de la matriz cambia, a pesar de que la aplicación lineal es la misma. Lo más sencillo sería que que todo endomorfismo se pudiera escribir en una base como una matriz diagonal. Desgraciadamente no siempre es posible, incluso aunque el cuerpo sobre el que trabajemos sea algebraicamente cerrado. En principio trabajamos sobre cuerpo real o el cuerpo complejo.\n",
    "\n",
    "Para saber si una matriz es diagonalizable tenemos el método **is_diagonalizable**. Una vez que sabemos que es diagonalizable utilizamos **charpoly** para calcular el polinomio característico. Las raíces de este polinomio son los valores propios, que podemos conocer con **eigenvals**. Los vectores propios asociados se obtienen con **eigenvects**. El método más general es **diagonalize**, que nos devuelve la matriz diagonal y además la matriz de cambio de base, esto es, la matriz $P$ tal que:\n",
    "$$\n",
    "P^{-1}\\cdot A \\cdot P = D\n",
    "$$\n",
    "siendo $A$ la matriz de partida, $P$ la matriz de cambio de base y $D$ la matriz diagonal."
   ]
  },
  {
   "cell_type": "markdown",
   "metadata": {},
   "source": [
    "###<div class=\"alert alert-warning\">Diagonaliza la matriz:</div>\n",
    "\n",
    "$$A=\n",
    "\\begin{pmatrix}\n",
    "1 & 0 &2\\\\\n",
    "3& 3&-3\\\\\n",
    "1&0&2\n",
    "\\end{pmatrix}\n",
    "$$"
   ]
  },
  {
   "cell_type": "code",
   "execution_count": 33,
   "metadata": {},
   "outputs": [],
   "source": []
  },
  {
   "cell_type": "code",
   "execution_count": 33,
   "metadata": {},
   "outputs": [],
   "source": []
  },
  {
   "cell_type": "markdown",
   "metadata": {},
   "source": [
    "Dada una matriz simétrica $A$ se puede interpretar como un producto escalar en un espacio vectorial, multiplicando los vectores por ambos lados. La matriz dada es la matriz de la métrica (o forma cuadrática) en  una base. Sin embargo siempre existe una base donde la forma cuadrática se reduce a suma de cuadrados (forma diagonal). Si $A$ es la matriz de partida, la matriz de cambio de base es $L$ y la matriz diagonal $D$, entonces:\n",
    "$$\n",
    "A= L\\cdot D\\cdot L^t\n",
    "$$\n",
    "Tanto la matriz $L$ como la $D$ se obtienen con el método **LDLdecomposition**."
   ]
  },
  {
   "cell_type": "markdown",
   "metadata": {},
   "source": [
    "###<div class=\"alert alert-warning\">Diagonaliza la forma cuadrática asociada a la matriz:</div>\n",
    "\n",
    "$$B=\n",
    "\\begin{pmatrix}\n",
    "25 & 15 &-5\\\\\n",
    "15& 18&0\\\\\n",
    "-5&0&11\n",
    "\\end{pmatrix}\n",
    "$$\n"
   ]
  },
  {
   "cell_type": "code",
   "execution_count": 35,
   "metadata": {},
   "outputs": [],
   "source": []
  },
  {
   "cell_type": "code",
   "execution_count": 37,
   "metadata": {},
   "outputs": [],
   "source": []
  },
  {
   "cell_type": "markdown",
   "metadata": {},
   "source": [
    "La descomposición LU de una matriz consiste es escribir la matriz $A$ como un producto $LU$ donde $L$ es una matriz triangular inferior (con la diagonal llena de unos) y $U$ una superior. No siempre es posible hallar esta factorización, pero permutando adecuadamente las filas, si es posible. El método **LUdecomposition** devuelve tanto $L$ como $U$, como un vector que indica la permutación de filas que es necesario realizar para poder realizar la factorización. Si la lista es vacía, no se necesitan cambios de filas."
   ]
  },
  {
   "cell_type": "markdown",
   "metadata": {},
   "source": [
    "###<div class=\"alert alert-warning\">Realiza la descomposición LU de la matriz $B$.</div>"
   ]
  },
  {
   "cell_type": "code",
   "execution_count": 44,
   "metadata": {},
   "outputs": [],
   "source": [
    "L, U, P=A.LUdecomposition()"
   ]
  },
  {
   "cell_type": "code",
   "execution_count": 46,
   "metadata": {},
   "outputs": [
    {
     "data": {
      "text/latex": [
       "$$\\begin{pmatrix}\\left[\\begin{matrix}25 & 15 & -5\\\\15 & 18 & 0\\\\-5 & 0 & 11\\end{matrix}\\right], & \\left[\\begin{matrix}25 & 15 & -5\\\\15 & 18 & 0\\\\-5 & 0 & 11\\end{matrix}\\right]\\end{pmatrix}$$"
      ],
      "text/plain": [
       "⎛⎡25  15  -5⎤, ⎡25  15  -5⎤⎞\n",
       "⎜⎢          ⎥  ⎢          ⎥⎟\n",
       "⎜⎢15  18  0 ⎥  ⎢15  18  0 ⎥⎟\n",
       "⎜⎢          ⎥  ⎢          ⎥⎟\n",
       "⎝⎣-5  0   11⎦  ⎣-5  0   11⎦⎠"
      ]
     },
     "execution_count": 46,
     "metadata": {},
     "output_type": "execute_result"
    }
   ],
   "source": [
    "L*U, A"
   ]
  },
  {
   "cell_type": "markdown",
   "metadata": {},
   "source": [
    "La descomposición QR de una matriz $A$ consiste en encontrar dos matrices $Q$ y $R$, tales que:\n",
    "\n",
    "\n",
    "* $A=Q\\cdot R$ \n",
    "\n",
    "\n",
    "* $Q$ es una matriz ortogonal ($Q\\cdot Q^t=\\mathrm{Id})$\n",
    "\n",
    "\n",
    "* $R$ es triangular superior.\n"
   ]
  },
  {
   "cell_type": "markdown",
   "metadata": {},
   "source": [
    "###<div class=\"alert alert-warning\">Realiza la descomposición QR de la matriz $B$.</div>"
   ]
  },
  {
   "cell_type": "code",
   "execution_count": 47,
   "metadata": {},
   "outputs": [
    {
     "data": {
      "text/latex": [
       "$$\\left[\\begin{matrix}25 & 15 & -5\\\\15 & 18 & 0\\\\-5 & 0 & 11\\end{matrix}\\right]$$"
      ],
      "text/plain": [
       "⎡25  15  -5⎤\n",
       "⎢          ⎥\n",
       "⎢15  18  0 ⎥\n",
       "⎢          ⎥\n",
       "⎣-5  0   11⎦"
      ]
     },
     "execution_count": 47,
     "metadata": {},
     "output_type": "execute_result"
    }
   ],
   "source": [
    "A"
   ]
  },
  {
   "cell_type": "code",
   "execution_count": 49,
   "metadata": {},
   "outputs": [],
   "source": [
    "Q, R =A.QRdecomposition()"
   ]
  },
  {
   "cell_type": "code",
   "execution_count": 52,
   "metadata": {},
   "outputs": [
    {
     "data": {
      "text/latex": [
       "$$\\left[\\begin{matrix}1 & 0 & 0\\\\0 & 1 & 0\\\\0 & 0 & 1\\end{matrix}\\right]$$"
      ],
      "text/plain": [
       "⎡1  0  0⎤\n",
       "⎢       ⎥\n",
       "⎢0  1  0⎥\n",
       "⎢       ⎥\n",
       "⎣0  0  1⎦"
      ]
     },
     "execution_count": 52,
     "metadata": {},
     "output_type": "execute_result"
    }
   ],
   "source": [
    "Q*Q.T"
   ]
  },
  {
   "cell_type": "code",
   "execution_count": 53,
   "metadata": {},
   "outputs": [
    {
     "data": {
      "text/latex": [
       "$$\\begin{pmatrix}\\left[\\begin{matrix}25 & 15 & -5\\\\15 & 18 & 0\\\\-5 & 0 & 11\\end{matrix}\\right], & \\left[\\begin{matrix}25 & 15 & -5\\\\15 & 18 & 0\\\\-5 & 0 & 11\\end{matrix}\\right]\\end{pmatrix}$$"
      ],
      "text/plain": [
       "⎛⎡25  15  -5⎤, ⎡25  15  -5⎤⎞\n",
       "⎜⎢          ⎥  ⎢          ⎥⎟\n",
       "⎜⎢15  18  0 ⎥  ⎢15  18  0 ⎥⎟\n",
       "⎜⎢          ⎥  ⎢          ⎥⎟\n",
       "⎝⎣-5  0   11⎦  ⎣-5  0   11⎦⎠"
      ]
     },
     "execution_count": 53,
     "metadata": {},
     "output_type": "execute_result"
    }
   ],
   "source": [
    "Q*R, A"
   ]
  },
  {
   "cell_type": "markdown",
   "metadata": {},
   "source": [
    "Dada una matriz simétrica y definida positiva, es conocido que se puede encontrar una base ortonormal, donde la matriz se reduce a la identidad. Si $L$ es la matriz de cambio de base, la descomposición LDL se  reduce a la expresión:\n",
    "$$\n",
    "L\\cdot \\mathrm{Id}\\cdot  L^t= L\\cdot L^t=A\n",
    "$$\n",
    "Esta es la conocida como descomposión de Cholesky, que se puede obtener con el método **cholesky**."
   ]
  },
  {
   "cell_type": "markdown",
   "metadata": {},
   "source": [
    "###<div class=\"alert alert-warning\">Realiza la descomposicoón de Cholesky de la matriz $B$.</div>"
   ]
  },
  {
   "cell_type": "code",
   "execution_count": 57,
   "metadata": {},
   "outputs": [
    {
     "data": {
      "text/latex": [
       "$$\\begin{pmatrix}\\left[\\begin{matrix}1 & 0 & 0\\\\\\frac{3}{5} & 1 & 0\\\\- \\frac{1}{5} & \\frac{1}{3} & 1\\end{matrix}\\right], & \\left[\\begin{matrix}25 & 0 & 0\\\\0 & 9 & 0\\\\0 & 0 & 9\\end{matrix}\\right]\\end{pmatrix}$$"
      ],
      "text/plain": [
       "⎛⎡ 1     0   0⎤, ⎡25  0  0⎤⎞\n",
       "⎜⎢            ⎥  ⎢        ⎥⎟\n",
       "⎜⎢3/5    1   0⎥  ⎢0   9  0⎥⎟\n",
       "⎜⎢            ⎥  ⎢        ⎥⎟\n",
       "⎝⎣-1/5  1/3  1⎦  ⎣0   0  9⎦⎠"
      ]
     },
     "execution_count": 57,
     "metadata": {},
     "output_type": "execute_result"
    }
   ],
   "source": [
    "A.LDLdecomposition()"
   ]
  },
  {
   "cell_type": "code",
   "execution_count": 56,
   "metadata": {},
   "outputs": [
    {
     "data": {
      "text/latex": [
       "$$\\begin{pmatrix}\\left[\\begin{matrix}25 & 15 & -5\\\\15 & 18 & 0\\\\-5 & 0 & 11\\end{matrix}\\right], & \\left[\\begin{matrix}25 & 15 & -5\\\\15 & 18 & 0\\\\-5 & 0 & 11\\end{matrix}\\right]\\end{pmatrix}$$"
      ],
      "text/plain": [
       "⎛⎡25  15  -5⎤, ⎡25  15  -5⎤⎞\n",
       "⎜⎢          ⎥  ⎢          ⎥⎟\n",
       "⎜⎢15  18  0 ⎥  ⎢15  18  0 ⎥⎟\n",
       "⎜⎢          ⎥  ⎢          ⎥⎟\n",
       "⎝⎣-5  0   11⎦  ⎣-5  0   11⎦⎠"
      ]
     },
     "execution_count": 56,
     "metadata": {},
     "output_type": "execute_result"
    }
   ],
   "source": [
    "L*L.T, A"
   ]
  },
  {
   "cell_type": "code",
   "execution_count": null,
   "metadata": {},
   "outputs": [],
   "source": []
  }
 ],
 "metadata": {
  "kernelspec": {
   "display_name": "Python 3",
   "language": "python",
   "name": "python3"
  },
  "language_info": {
   "codemirror_mode": {
    "name": "ipython",
    "version": 3
   },
   "file_extension": ".py",
   "mimetype": "text/x-python",
   "name": "python",
   "nbconvert_exporter": "python",
   "pygments_lexer": "ipython3",
   "version": "3.6.5"
  }
 },
 "nbformat": 4,
 "nbformat_minor": 1
}
