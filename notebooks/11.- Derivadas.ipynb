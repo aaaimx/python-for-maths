{
 "cells": [
  {
   "cell_type": "markdown",
   "metadata": {},
   "source": [
    "#<div class=\"alert alert-success\">Derivadas</div>"
   ]
  },
  {
   "cell_type": "code",
   "execution_count": 1,
   "metadata": {},
   "outputs": [],
   "source": [
    "from sympy import *\n",
    "init_printing()\n",
    "x, y, z = symbols('x, y, z')"
   ]
  },
  {
   "cell_type": "markdown",
   "metadata": {},
   "source": [
    "Para derivar funciones se pueden emplear distintos métodos y funciones. Nosotros vamos a emplear la función **diff** y el método con el mismo nombre. Si la función tiene una única variable, el uso de la función **diff** es sencillo: únicamente tenemos que escribir la función con único argumento. El método se usa de la misma forma.\n",
    "\n",
    "Si añadimos el argumento **evaluate = False**, la derivada no se calcula, únicamente se escribe. Se puede usa **doit** para realizar la derivada."
   ]
  },
  {
   "cell_type": "markdown",
   "metadata": {},
   "source": [
    "###<div class=\"alert alert-warning\">Calcula la derivada de las funciones:</div>\n",
    "\n",
    "\n",
    "* $3x^2+8x$\n",
    "\n",
    "\n",
    "* $4y^5-6y^3$\n",
    "\n",
    "\n",
    "* $\\cos(x^2)$"
   ]
  },
  {
   "cell_type": "code",
   "execution_count": 0,
   "metadata": {},
   "outputs": [],
   "source": []
  },
  {
   "cell_type": "code",
   "execution_count": 1,
   "metadata": {},
   "outputs": [],
   "source": []
  },
  {
   "cell_type": "markdown",
   "metadata": {},
   "source": [
    "Cuando en la función tiene varias variables, como segundo argumento le debemos especificar la variable respecto a la que queremos derivar."
   ]
  },
  {
   "cell_type": "markdown",
   "metadata": {},
   "source": [
    "###<div class=\"alert alert-warning\">Deriva la siguiente función respecto a cada una de sus variables:</div>\n",
    "\n",
    "\n",
    "$$ \\cos(3xy^2) $$"
   ]
  },
  {
   "cell_type": "code",
   "execution_count": 25,
   "metadata": {},
   "outputs": [
    {
     "data": {
      "image/png": "[encoded data removed]",
      "text/latex": [
       "$$\\frac{\\partial^{5}}{\\partial y^{3}\\partial x^{2}}  \\cos{\\left (x y \\right )}$$"
      ],
      "text/plain": [
       "    5            \n",
       "   ∂             \n",
       "───────(cos(x⋅y))\n",
       "  2   3          \n",
       "∂x  ∂y           "
      ]
     },
     "execution_count": 25,
     "metadata": {},
     "output_type": "execute_result"
    }
   ],
   "source": [
    "diff(cos(x*y),y,3,x,2, evaluate=False)"
   ]
  },
  {
   "cell_type": "markdown",
   "metadata": {},
   "source": [
    "Para realizar derivadas de mayor orden se pueden seguir dos métodos distintos: el primero es escribir tantas veces la variable como derivadas queramos realizar. La segunda es escribir el número de orden de derivada despúes de la letra. Esto sirve también para derivadas parciales."
   ]
  },
  {
   "cell_type": "markdown",
   "metadata": {},
   "source": [
    "###<div class=\"alert alert-warning\">Calcula las siguientes derivadas:</div>\n",
    "\n",
    "\n",
    "* $\\displaystyle \\frac{\\partial^5}{\\partial x^5} \\sin(6x) $\n",
    "\n",
    "\n",
    "* $\\displaystyle \\frac{\\partial^5}{\\partial x^2 \\partial y^3} \\sin(4x+6y)$"
   ]
  },
  {
   "cell_type": "code",
   "execution_count": null,
   "metadata": {},
   "outputs": [],
   "source": []
  },
  {
   "cell_type": "markdown",
   "metadata": {},
   "source": [
    "Una de las primera aplicaciones de la derivada consiste en calcular los máximos y los mínimos, así como los puntos de inflexión de curvas. Para ello debemos realizar la primera o la segunda derivada, igualar a cero y resolver la ecuación. Los extremos y los puntos de inflexión se encuentran entre las soluciones."
   ]
  },
  {
   "cell_type": "markdown",
   "metadata": {},
   "source": [
    "###<div class=\"alert alert-warning\">Encuentra los posibles extremos y los puntos de inflexión de:</div>\n",
    "\n",
    "\n",
    "$$ 4x^3-2x+7$$"
   ]
  },
  {
   "cell_type": "code",
   "execution_count": 27,
   "metadata": {},
   "outputs": [
    {
     "data": {
      "image/png": "[encoded data removed]",
      "text/latex": [
       "$$4 x^{3} - 2 x + 7$$"
      ],
      "text/plain": [
       "   3          \n",
       "4⋅x  - 2⋅x + 7"
      ]
     },
     "execution_count": 27,
     "metadata": {},
     "output_type": "execute_result"
    }
   ],
   "source": [
    "f=4*x**3-2*x+7; f"
   ]
  },
  {
   "cell_type": "code",
   "execution_count": 32,
   "metadata": {},
   "outputs": [
    {
     "data": {
      "text/latex": [
       "$$\\begin{bmatrix}0\\end{bmatrix}$$"
      ],
      "text/plain": [
       "[0]"
      ]
     },
     "execution_count": 32,
     "metadata": {},
     "output_type": "execute_result"
    }
   ],
   "source": [
    "solve(diff(f,x,2))"
   ]
  },
  {
   "cell_type": "markdown",
   "metadata": {},
   "source": [
    "Otra aplicación de las derivadas son los polinomios de Taylor o en general el desarrollo en serie de potencias de una cierta función. Para ello empleamos la función **series** que hoy en día solamente es capaz de desarrollar funciones en un entorno del cero. Si no especificamos nada, Sympy calcula desarrollos alrededor del cero y de orden 6."
   ]
  },
  {
   "cell_type": "code",
   "execution_count": 59,
   "metadata": {},
   "outputs": [
    {
     "data": {
      "image/png": "[encoded data removed]",
      "text/latex": [
       "$$e^{y} + x e^{y} + \\frac{x^{2} e^{y}}{2} + \\frac{x^{3} e^{y}}{6} + \\frac{x^{4} e^{y}}{24} + \\frac{x^{5} e^{y}}{120} + \\frac{x^{6} e^{y}}{720} + \\frac{x^{7} e^{y}}{5040} + \\frac{x^{8} e^{y}}{40320} + \\mathcal{O}\\left(x^{9}\\right)$$"
      ],
      "text/plain": [
       "             2  y    3  y    4  y    5  y    6  y    7  y    8  y        \n",
       " y      y   x ⋅ℯ    x ⋅ℯ    x ⋅ℯ    x ⋅ℯ    x ⋅ℯ    x ⋅ℯ    x ⋅ℯ     ⎛ 9⎞\n",
       "ℯ  + x⋅ℯ  + ───── + ───── + ───── + ───── + ───── + ───── + ───── + O⎝x ⎠\n",
       "              2       6       24     120     720     5040   40320        "
      ]
     },
     "execution_count": 59,
     "metadata": {},
     "output_type": "execute_result"
    }
   ],
   "source": [
    "series(exp(x+y),x, n=9)"
   ]
  },
  {
   "cell_type": "markdown",
   "metadata": {},
   "source": [
    "###<div class=\"alert alert-warning\">Calcula desarrollos de distintos ordenes de las funciones:</div>\n",
    "\n",
    "\n",
    "* $\\exp(x)$\n",
    "\n",
    "\n",
    "* $\\cos(x^2)$\n",
    "\n",
    "\n",
    "* $\\exp(x+y)$\n"
   ]
  },
  {
   "cell_type": "code",
   "execution_count": 45,
   "metadata": {},
   "outputs": [
    {
     "data": {
      "image/png": "[encoded data removed]",
      "text/latex": [
       "$$1 - \\frac{x^{2}}{2} + \\frac{x^{4}}{24} - \\frac{x^{6}}{720} + \\frac{x^{8}}{40320} + \\mathcal{O}\\left(x^{9}\\right)$$"
      ],
      "text/plain": [
       "     2    4     6      8         \n",
       "    x    x     x      x      ⎛ 9⎞\n",
       "1 - ── + ── - ─── + ───── + O⎝x ⎠\n",
       "    2    24   720   40320        "
      ]
     },
     "execution_count": 45,
     "metadata": {},
     "output_type": "execute_result"
    }
   ],
   "source": [
    "series(cos(x),x,0,9)"
   ]
  },
  {
   "cell_type": "code",
   "execution_count": 46,
   "metadata": {},
   "outputs": [
    {
     "data": {
      "image/png": "[encoded data removed]",
      "text/latex": [
       "$$1 - \\frac{y^{2}}{2} + \\frac{y^{4}}{24} + \\mathcal{O}\\left(y^{6}\\right)$$"
      ],
      "text/plain": [
       "     2    4        \n",
       "    y    y     ⎛ 6⎞\n",
       "1 - ── + ── + O⎝y ⎠\n",
       "    2    24        "
      ]
     },
     "execution_count": 46,
     "metadata": {},
     "output_type": "execute_result"
    }
   ],
   "source": [
    "series(cos(y))"
   ]
  },
  {
   "cell_type": "code",
   "execution_count": null,
   "metadata": {},
   "outputs": [],
   "source": []
  }
 ],
 "metadata": {
  "kernelspec": {
   "display_name": "Python 3",
   "language": "python",
   "name": "python3"
  },
  "language_info": {
   "codemirror_mode": {
    "name": "ipython",
    "version": 3
   },
   "file_extension": ".py",
   "mimetype": "text/x-python",
   "name": "python",
   "nbconvert_exporter": "python",
   "pygments_lexer": "ipython3",
   "version": "3.6.5"
  }
 },
 "nbformat": 4,
 "nbformat_minor": 1
}
