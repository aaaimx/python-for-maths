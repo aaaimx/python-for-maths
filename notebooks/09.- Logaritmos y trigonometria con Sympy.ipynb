{
 "cells": [
  {
   "cell_type": "markdown",
   "metadata": {},
   "source": [
    "#<div class=\"alert alert-success\">Logaritmos y trigonometría con Sympy.</div>"
   ]
  },
  {
   "cell_type": "code",
   "execution_count": 15,
   "metadata": {},
   "outputs": [],
   "source": [
    "from sympy import *\n",
    "init_printing()\n",
    "x, y, z = symbols('x, y, z')"
   ]
  },
  {
   "cell_type": "markdown",
   "metadata": {},
   "source": [
    "En otro *notebook* hemos trabajado con las funciones logarítmicas y trigonométricas en modo aproximado. Ahora vamos a trabajar en modo exacto. En particular Sympy es capaz de manejar las propiedades de las funciones."
   ]
  },
  {
   "cell_type": "markdown",
   "metadata": {},
   "source": [
    "Las propiedades fundamentales de los logaritmos sirven para desarrollar expresiones donde aparecen logaritmos. La función principal para desarrollar logaritmos es **expand_log**. A veces, para poder utilizar toda la potencia de esta función debemos añadir un argumento opcional: **force = True**. Otra manera de hacer esto es utilizar el comando **expand** y utilizar el argumento opcional **log = True**."
   ]
  },
  {
   "cell_type": "markdown",
   "metadata": {},
   "source": [
    "###<div class=\"alert alert-warnig\">Comprueba con Sympy las siguientes propiedades de los logaritmos:</div>\n",
    "\n",
    "\n",
    "* $\\log(x \\cdot y) = \\log(x) + \\log(y)$\n",
    "\n",
    "\n",
    "* $\\log(x^z) = z\\cdot \\log(x)$\n",
    "\n",
    "\n",
    "* $\\displaystyle\\log\\left(\\frac{x}{y}\\right) = \\log(x) -\\log(y)$\n",
    "\n",
    "\n",
    "* $\\displaystyle \\log(\\sqrt{x}) = \\frac{1}{2} \\log(x)$"
   ]
  },
  {
   "cell_type": "code",
   "execution_count": 108,
   "metadata": {},
   "outputs": [],
   "source": []
  },
  {
   "cell_type": "code",
   "execution_count": 72,
   "metadata": {},
   "outputs": [],
   "source": []
  },
  {
   "cell_type": "markdown",
   "metadata": {},
   "source": [
    "###<div class=\"alert alert-warnig\">Calcula los siguientes logaritmos:</div>\n",
    "\n",
    "\n",
    "* $\\log_2(1024)$\n",
    "\n",
    "\n",
    "* $\\log_2(\\sqrt{8})$\n",
    "\n",
    "\n",
    "* $\\log_2(\\sqrt[5]{16})$"
   ]
  },
  {
   "cell_type": "code",
   "execution_count": 108,
   "metadata": {},
   "outputs": [],
   "source": []
  },
  {
   "cell_type": "code",
   "execution_count": 108,
   "metadata": {},
   "outputs": [],
   "source": []
  },
  {
   "cell_type": "code",
   "execution_count": 72,
   "metadata": {},
   "outputs": [],
   "source": []
  },
  {
   "cell_type": "markdown",
   "metadata": {},
   "source": [
    "###<div class=\"alert alert-warnig\">Realiza los siguientes cálculos trigonométricos:</div>\n",
    "\n",
    "\n",
    "* $\\displaystyle \\cos\\left(\\frac{\\pi}{3}\\right)$\n",
    "\n",
    "\n",
    "* $\\displaystyle \\arcsin\\left(\\frac{1}{2}\\right)$\n",
    "\n",
    "\n",
    "* $\\displaystyle 5\\cos\\left(\\frac{\\pi}{2}\\right) +2\\cos(\\pi) -  \\tan \\left(\\frac{2\\pi}{3}\\right)$"
   ]
  },
  {
   "cell_type": "code",
   "execution_count": 108,
   "metadata": {},
   "outputs": [],
   "source": []
  },
  {
   "cell_type": "code",
   "execution_count": 108,
   "metadata": {},
   "outputs": [],
   "source": []
  },
  {
   "cell_type": "markdown",
   "metadata": {},
   "source": [
    "Las funciones **radians** y **deg2rad** convierten grados a radianes, pero en forma aproximada. Si queremos realizar cálculos exactos, debemos multiplicar los grados por $\\pi$ y dividir el resultado entre $180$."
   ]
  },
  {
   "cell_type": "markdown",
   "metadata": {},
   "source": [
    "###<div class=\"alert alert-warnig\">Realiza los siguientes cálculos trigonométricos:</div>\n",
    "\n",
    "\n",
    "* $\\cos(15^\\mathrm{o})$\n",
    "\n",
    "\n",
    "* $\\cos(30^\\mathrm{o}) -3\\tan(135^\\mathrm{o})$"
   ]
  },
  {
   "cell_type": "code",
   "execution_count": 108,
   "metadata": {},
   "outputs": [],
   "source": []
  },
  {
   "cell_type": "code",
   "execution_count": 108,
   "metadata": {},
   "outputs": [],
   "source": []
  },
  {
   "cell_type": "markdown",
   "metadata": {},
   "source": [
    "La función que sirve para desarrollar expresiones trigonométricas es **expand_trig**. También se puede utilizar **expand** con el argumento opcional **trig = True**."
   ]
  },
  {
   "cell_type": "markdown",
   "metadata": {},
   "source": [
    "###<div class=\"alert alert-warnig\">Comprueba las siguientes propiedades trigonométricas.</div>\n",
    "\n",
    "\n",
    "* $\\sin(x+y)=\\sin(x)\\cos(y)+\\cos(x)\\sin(y)$\n",
    "\n",
    "\n",
    "* $\\cos(x+y) = \\cos(x)\\cos(y)-\\sin(x)\\sin(y)$\n",
    "\n",
    "\n",
    "* $\\tan(x+y) = ?$"
   ]
  },
  {
   "cell_type": "code",
   "execution_count": 108,
   "metadata": {},
   "outputs": [],
   "source": []
  },
  {
   "cell_type": "code",
   "execution_count": 72,
   "metadata": {},
   "outputs": [],
   "source": []
  },
  {
   "cell_type": "code",
   "execution_count": 72,
   "metadata": {},
   "outputs": [],
   "source": []
  },
  {
   "cell_type": "code",
   "execution_count": 74,
   "metadata": {},
   "outputs": [],
   "source": []
  },
  {
   "cell_type": "code",
   "execution_count": 78,
   "metadata": {},
   "outputs": [],
   "source": []
  },
  {
   "cell_type": "code",
   "execution_count": null,
   "metadata": {},
   "outputs": [],
   "source": []
  }
 ],
 "metadata": {
  "kernelspec": {
   "display_name": "Python 3",
   "language": "python",
   "name": "python3"
  },
  "language_info": {
   "codemirror_mode": {
    "name": "ipython",
    "version": 3
   },
   "file_extension": ".py",
   "mimetype": "text/x-python",
   "name": "python",
   "nbconvert_exporter": "python",
   "pygments_lexer": "ipython3",
   "version": "3.6.5"
  }
 },
 "nbformat": 4,
 "nbformat_minor": 1
}
