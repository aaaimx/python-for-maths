{
 "cells": [
  {
   "cell_type": "markdown",
   "metadata": {},
   "source": [
    "#<div class=\"alert alert-success\">Potencias y radicales</div>"
   ]
  },
  {
   "cell_type": "markdown",
   "metadata": {},
   "source": [
    "Con la biblioteca Sympy cargada, Python puede trabajar con radicales y potencias y aplicar algunas de sus propiedades para simplificar el resultado. La función **simplify** es una de las más útiles en este contexto. Sin embargo su potencia es limitada y no \"sabe\" simplificar ciertas expresiones."
   ]
  },
  {
   "cell_type": "code",
   "execution_count": 9,
   "metadata": {},
   "outputs": [],
   "source": [
    "from sympy import *\n",
    "init_printing()\n",
    "a = symbols('a')\n",
    "n = symbols('n')\n",
    "m = symbols('m')"
   ]
  },
  {
   "cell_type": "markdown",
   "metadata": {},
   "source": [
    "###<div class=\"alert alert-warning\">Simplifica las siguientes potencias:</div>\n",
    "\n",
    "\n",
    "* $a^{-n}$\n",
    "\n",
    "\n",
    "* $ a^{-6}$\n",
    "\n",
    "\n",
    "* $a^n \\cdot a^m $\n",
    "\n",
    "\n",
    "* $\\displaystyle \\frac{a^n}{a^m}$\n",
    "\n",
    "\n",
    "* $ \\left(a^n\\right)^m$\n",
    "\n",
    "\n",
    "* $\\left( a^5\\right)^7$"
   ]
  },
  {
   "cell_type": "code",
   "execution_count": 10,
   "metadata": {},
   "outputs": [
    {
     "data": {
      "image/png": "[encoded data removed]",
      "text/latex": [
       "$$a^{35}$$"
      ],
      "text/plain": [
       " 35\n",
       "a  "
      ]
     },
     "execution_count": 10,
     "metadata": {},
     "output_type": "execute_result"
    }
   ],
   "source": [
    "simplify((a**7)**5)"
   ]
  },
  {
   "cell_type": "code",
   "execution_count": null,
   "metadata": {},
   "outputs": [],
   "source": []
  },
  {
   "cell_type": "code",
   "execution_count": null,
   "metadata": {},
   "outputs": [],
   "source": []
  },
  {
   "cell_type": "code",
   "execution_count": null,
   "metadata": {},
   "outputs": [],
   "source": []
  },
  {
   "cell_type": "code",
   "execution_count": null,
   "metadata": {},
   "outputs": [],
   "source": []
  },
  {
   "cell_type": "markdown",
   "metadata": {},
   "source": [
    "Sympy también conoce y trabaja con las propiedades de los radicales. Para escribir **una raíz $n$-ésima debemos elevar el número a _Rational(1,n)_**, pues si lo elevamos simplemente a $1/n$ será Python y no Sympy el que haga los cálculos y estos no se realizarán  de modo exacto.\n"
   ]
  },
  {
   "cell_type": "markdown",
   "metadata": {},
   "source": [
    "###<div class=\"alert alert-warning\">Simplfica los siguientes radicales:</div>\n",
    "\n",
    "\n",
    "* $\\sqrt{80}$\n",
    "\n",
    "\n",
    "* $\\sqrt[5]{224}$\n",
    "\n",
    "\n",
    "* $ 2^{16/6}$\n",
    "\n",
    "\n",
    "* $\\sqrt[12]{2^9}$\n",
    "\n",
    "\n",
    "* $\\sqrt[3]{2^{11}}$"
   ]
  },
  {
   "cell_type": "code",
   "execution_count": 17,
   "metadata": {},
   "outputs": [
    {
     "data": {
      "image/png": "[encoded data removed]",
      "text/latex": [
       "$$4 \\sqrt{5}$$"
      ],
      "text/plain": [
       "    ___\n",
       "4⋅╲╱ 5 "
      ]
     },
     "execution_count": 17,
     "metadata": {},
     "output_type": "execute_result"
    }
   ],
   "source": [
    "80**(Rational(1,2))"
   ]
  },
  {
   "cell_type": "code",
   "execution_count": 18,
   "metadata": {},
   "outputs": [
    {
     "data": {
      "image/png": "[encoded data removed]",
      "text/latex": [
       "$$2 \\sqrt[5]{7}$$"
      ],
      "text/plain": [
       "  5 ___\n",
       "2⋅╲╱ 7 "
      ]
     },
     "execution_count": 18,
     "metadata": {},
     "output_type": "execute_result"
    }
   ],
   "source": [
    "224**Rational(1,5)"
   ]
  },
  {
   "cell_type": "code",
   "execution_count": 21,
   "metadata": {},
   "outputs": [
    {
     "data": {
      "image/png": "[encoded data removed]",
      "text/latex": [
       "$$2^{\\frac{3}{8}}$$"
      ],
      "text/plain": [
       " 3/8\n",
       "2   "
      ]
     },
     "execution_count": 21,
     "metadata": {},
     "output_type": "execute_result"
    }
   ],
   "source": [
    "2**Rational(6,16)"
   ]
  },
  {
   "cell_type": "code",
   "execution_count": 20,
   "metadata": {},
   "outputs": [
    {
     "data": {
      "image/png": "[encoded data removed]",
      "text/latex": [
       "$$2^{\\frac{3}{4}}$$"
      ],
      "text/plain": [
       " 3/4\n",
       "2   "
      ]
     },
     "execution_count": 20,
     "metadata": {},
     "output_type": "execute_result"
    }
   ],
   "source": [
    "2**Rational(9,12)"
   ]
  },
  {
   "cell_type": "markdown",
   "metadata": {},
   "source": [
    "###<div class=\"alert alert-warning\">Realiza la siguientes multiplicación de radicales:</div>\n",
    "\n",
    "\n",
    "* $\\sqrt[6]{2^5} \\cdot \\sqrt{2^7} \\cdot \\sqrt[3]{2^2}$"
   ]
  },
  {
   "cell_type": "code",
   "execution_count": 23,
   "metadata": {},
   "outputs": [
    {
     "data": {
      "image/png": "[encoded data removed]",
      "text/latex": [
       "$$32$$"
      ],
      "text/plain": [
       "32"
      ]
     },
     "execution_count": 23,
     "metadata": {},
     "output_type": "execute_result"
    }
   ],
   "source": [
    "2**Rational(5,6) * sqrt(2**7) *2**Rational(2,3)"
   ]
  },
  {
   "cell_type": "markdown",
   "metadata": {},
   "source": [
    "En principio Sympy siempre da los radicales simplificados. En el caso de la racionalización ésta se realiza muchas veces por defecto. Otras veces es necesario utilizar el comando **simplify** para \"forzar\" a Sympy."
   ]
  },
  {
   "cell_type": "markdown",
   "metadata": {},
   "source": [
    "###<div class=\"alert alert-warning\">Realiza las siguientes operaciones, simplificando el resultado:</div>\n",
    "\n",
    "\n",
    "* $ \\displaystyle \\frac{3}{\\sqrt[3]{2^7}}$\n",
    "\n",
    "\n",
    "* $ \\displaystyle \\frac{5}{2\\sqrt{3}-2}$\n",
    "\n",
    "\n",
    "* $ 23\\sqrt{125} + 3\\sqrt{20}-2\\sqrt{45}$\n",
    "\n",
    "\n",
    "* $\\sqrt[3]{2^5 \\cdot \\sqrt{2}}$"
   ]
  },
  {
   "cell_type": "code",
   "execution_count": 29,
   "metadata": {},
   "outputs": [
    {
     "data": {
      "image/png": "[encoded data removed]",
      "text/latex": [
       "$$\\frac{3}{8} 2^{\\frac{2}{3}}$$"
      ],
      "text/plain": [
       "   2/3\n",
       "3⋅2   \n",
       "──────\n",
       "  8   "
      ]
     },
     "execution_count": 29,
     "metadata": {},
     "output_type": "execute_result"
    }
   ],
   "source": [
    "3/(2**Rational(7,3))"
   ]
  },
  {
   "cell_type": "code",
   "execution_count": 31,
   "metadata": {},
   "outputs": [
    {
     "data": {
      "image/png": "[encoded data removed]",
      "text/latex": [
       "$$\\frac{5}{4} + \\frac{5 \\sqrt{3}}{4}$$"
      ],
      "text/plain": [
       "        ___\n",
       "5   5⋅╲╱ 3 \n",
       "─ + ───────\n",
       "4      4   "
      ]
     },
     "execution_count": 31,
     "metadata": {},
     "output_type": "execute_result"
    }
   ],
   "source": [
    "simplify(5/(2*sqrt(3)-2))"
   ]
  },
  {
   "cell_type": "code",
   "execution_count": 32,
   "metadata": {},
   "outputs": [
    {
     "data": {
      "image/png": "[encoded data removed]",
      "text/latex": [
       "$$115 \\sqrt{5}$$"
      ],
      "text/plain": [
       "      ___\n",
       "115⋅╲╱ 5 "
      ]
     },
     "execution_count": 32,
     "metadata": {},
     "output_type": "execute_result"
    }
   ],
   "source": [
    "23*sqrt(125) +3*sqrt(20) -2*sqrt(45)"
   ]
  },
  {
   "cell_type": "code",
   "execution_count": 34,
   "metadata": {},
   "outputs": [
    {
     "data": {
      "image/png": "[encoded data removed]",
      "text/latex": [
       "$$2 \\cdot 2^{\\frac{5}{6}}$$"
      ],
      "text/plain": [
       "   5/6\n",
       "2⋅2   "
      ]
     },
     "execution_count": 34,
     "metadata": {},
     "output_type": "execute_result"
    }
   ],
   "source": [
    "simplify((2**5 * sqrt(2))**Rational(1,3))"
   ]
  },
  {
   "cell_type": "code",
   "execution_count": null,
   "metadata": {},
   "outputs": [],
   "source": []
  }
 ],
 "metadata": {
  "kernelspec": {
   "display_name": "Python 3",
   "language": "python",
   "name": "python3"
  },
  "language_info": {
   "codemirror_mode": {
    "name": "ipython",
    "version": 3
   },
   "file_extension": ".py",
   "mimetype": "text/x-python",
   "name": "python",
   "nbconvert_exporter": "python",
   "pygments_lexer": "ipython3",
   "version": "3.6.5"
  }
 },
 "nbformat": 4,
 "nbformat_minor": 1
}
