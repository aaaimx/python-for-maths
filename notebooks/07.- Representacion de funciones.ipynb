{
 "cells": [
  {
   "cell_type": "markdown",
   "metadata": {},
   "source": [
    "#<div class=\"alert alert-success\">Representación de funciones</div>"
   ]
  },
  {
   "cell_type": "code",
   "execution_count": 1,
   "metadata": {},
   "outputs": [],
   "source": [
    "from sympy import *\n",
    "init_printing(use_latex='mathjax')\n",
    "x, y, z = symbols('x, y, z')"
   ]
  },
  {
   "cell_type": "markdown",
   "metadata": {},
   "source": [
    "El comando básico para dibujar funciones es **plot**. Si solamente le pasamos como argumento una función nos la dibuja en el intervalo (-10,10) del eje $x$. El tamaño del eje $y$ dependerá de la función. Para variar el dominio de la gráfica se le debe añadir como argumento una tupla, que conste de la letra $x$, el límite inferior y el superior."
   ]
  },
  {
   "cell_type": "markdown",
   "metadata": {},
   "source": [
    "###<div class=\"alert alert-warning\">Dibuja la gráfica de la función $f(x)=x^2$ en el intervalo $(-3,4)$.</div>"
   ]
  },
  {
   "cell_type": "code",
   "execution_count": 24,
   "metadata": {},
   "outputs": [
    {
     "data": {
      "image/png": "[encoded data removed]",
      "text/plain": [
       "<matplotlib.figure.Figure at 0x719dc10>"
      ]
     },
     "metadata": {},
     "output_type": "display_data"
    },
    {
     "data": {
      "text/plain": [
       "<sympy.plotting.plot.Plot at 0x6d78950>"
      ]
     },
     "execution_count": 24,
     "metadata": {},
     "output_type": "execute_result"
    }
   ],
   "source": [
    "plot(x**2,(x,-3,4))"
   ]
  },
  {
   "cell_type": "markdown",
   "metadata": {},
   "source": [
    "A la gráfica de podemos hacer muchas modificaciones, añadiendo argumentos optativos. Algunos de ellos son:\n",
    "\n",
    "* **ylim**. Para modificar el eje $y$.\n",
    "\n",
    "* **line_color**. Para cambiar el color.\n",
    "\n",
    "* **xlabel**. Para poner nombre al eje $x$\n",
    "\n",
    "* **title**. Para poner un título a la gráfica."
   ]
  },
  {
   "cell_type": "markdown",
   "metadata": {},
   "source": [
    "###<div class=\"alert alert-warning\">Varia alguno de los parámetros mencionados.</div>"
   ]
  },
  {
   "cell_type": "code",
   "execution_count": null,
   "metadata": {},
   "outputs": [],
   "source": []
  },
  {
   "cell_type": "markdown",
   "metadata": {},
   "source": [
    "###<div class=\"alert alert-warning\">Modificar el tamaño y guardar la imagen.</div>"
   ]
  },
  {
   "cell_type": "markdown",
   "metadata": {},
   "source": [
    "Se pueden dibujar varias funciones en la misma gráfica. La manera más sencilla, cuando ambas gráficas tienen el mismo dominio, es escribir las distintas funciones separadas por comas. Sin embargo para controlar individualmente cada función es mejor utilizar otro método, que consiste en realizar \"una tupla de tuplas\"."
   ]
  },
  {
   "cell_type": "markdown",
   "metadata": {},
   "source": [
    "###<div class=\"alert alert-warning\">Dibuja,  en unos mismos ejes, las gráficas de una parábola  y del coseno.</div>"
   ]
  },
  {
   "cell_type": "code",
   "execution_count": 53,
   "metadata": {},
   "outputs": [
    {
     "data": {
      "image/png": "[encoded data removed]",
      "text/plain": [
       "<matplotlib.figure.Figure at 0x983b2d0>"
      ]
     },
     "metadata": {},
     "output_type": "display_data"
    },
    {
     "data": {
      "text/plain": [
       "<sympy.plotting.plot.Plot at 0x944c590>"
      ]
     },
     "execution_count": 53,
     "metadata": {},
     "output_type": "execute_result"
    }
   ],
   "source": [
    "plot((x**2,(x,-3,3)), (cos(x),(x,-5,5)))"
   ]
  },
  {
   "cell_type": "markdown",
   "metadata": {},
   "source": [
    "Con lo visto anteriormente se puede \"simular\" la gráfica de una función definida a trozos."
   ]
  },
  {
   "cell_type": "markdown",
   "metadata": {},
   "source": [
    "###<div class=\"alert alert-warning\">Representa la siguiente función definida a trozos:</div>\n",
    "\n",
    "$$\n",
    "f(x)=\n",
    "\\begin{cases}\n",
    "2x-3 & \\mathrm{ si } & -4<x<2\\\\\n",
    "x^2 & \\mathrm{ si } & -2\\leq x <2 \\\\\n",
    "x & \\mathrm{ si }& 2\\leq x <5\n",
    "\\end{cases}\n",
    "$$"
   ]
  },
  {
   "cell_type": "raw",
   "metadata": {},
   "source": [
    "rrr"
   ]
  },
  {
   "cell_type": "raw",
   "metadata": {},
   "source": [
    "plot((2*x-3,(x,-4,-2)),(x**2,(x,-2,2)),(x,(x,2,5)))"
   ]
  },
  {
   "cell_type": "code",
   "execution_count": null,
   "metadata": {},
   "outputs": [],
   "source": []
  }
 ],
 "metadata": {
  "kernelspec": {
   "display_name": "Python 3",
   "language": "python",
   "name": "python3"
  },
  "language_info": {
   "codemirror_mode": {
    "name": "ipython",
    "version": 3
   },
   "file_extension": ".py",
   "mimetype": "text/x-python",
   "name": "python",
   "nbconvert_exporter": "python",
   "pygments_lexer": "ipython3",
   "version": "3.6.5"
  }
 },
 "nbformat": 4,
 "nbformat_minor": 1
}
