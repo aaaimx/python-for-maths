{
 "cells": [
  {
   "cell_type": "markdown",
   "metadata": {},
   "source": [
    "#<div class=\"alert alert-success\">Matrices, operaciones y sistemas</div>"
   ]
  },
  {
   "cell_type": "code",
   "execution_count": 1,
   "metadata": {},
   "outputs": [],
   "source": [
    "from sympy import *\n",
    "init_printing(use_latex='mathjax')\n",
    "x, y, z = symbols('x, y, z')"
   ]
  },
  {
   "cell_type": "markdown",
   "metadata": {},
   "source": [
    "Para construir matrices se utiliza el \"contructor\" **Matrix**, que crea un objeto de tipo matriz (en realidad el tipo lo denomina Sympy *MutableDenseMatrix*). Una matriz es una lista de listas y por lo tanto debemos escribir cada fila entre corchetes (aunque también se pueden utilizar tuplas, que se escriben con paréntesis). Como la matriz es también una lista, debe llevar otros corchetes. \n",
    "\n",
    "**Las operaciones con matrices se realizan con los operadores habituales**."
   ]
  },
  {
   "cell_type": "markdown",
   "metadata": {},
   "source": [
    "###<div class=\"alert alert-warning\">Realiza operaciones con las matrices, comprobando que el producto no es conmutativo:</div>\n",
    "\n",
    "$$ A=\\begin{pmatrix}\n",
    "5 & 7 & 8 \\\\\n",
    "-3 & 4 & 2 \\\\\n",
    "4 & 7 & 9 \n",
    "\\end{pmatrix}\n",
    "\\qquad\n",
    "B =\\begin{pmatrix}\n",
    "1 & 2 & 3 \\\\\n",
    "4 & 5 & 6 \\\\\n",
    "7 & 8 & 9\n",
    "\\end{pmatrix}\n",
    "$$"
   ]
  },
  {
   "cell_type": "code",
   "execution_count": 7,
   "metadata": {},
   "outputs": [
    {
     "data": {
      "text/latex": [
       "$$\\left[\\begin{matrix}2\\\\3\\end{matrix}\\right]$$"
      ],
      "text/plain": [
       "⎡2⎤\n",
       "⎢ ⎥\n",
       "⎣3⎦"
      ]
     },
     "execution_count": 7,
     "metadata": {},
     "output_type": "execute_result"
    }
   ],
   "source": [
    "A=Matrix(((2,3))); \n",
    "A."
   ]
  },
  {
   "cell_type": "code",
   "execution_count": 6,
   "metadata": {},
   "outputs": [
    {
     "data": {
      "text/plain": [
       "sympy.matrices.dense.MutableDenseMatrix"
      ]
     },
     "execution_count": 6,
     "metadata": {},
     "output_type": "execute_result"
    }
   ],
   "source": [
    "type(A)"
   ]
  },
  {
   "cell_type": "code",
   "execution_count": null,
   "metadata": {},
   "outputs": [],
   "source": []
  },
  {
   "cell_type": "markdown",
   "metadata": {},
   "source": [
    "Para calcular el determinante empleamos el método **det**, para la traza **trace** y para calcular la inversa el método **inv**, aunque ya hemos visto que podemos invertir una matriz elevando la matriz a $-1$. En el caso de una matriz no invertible se produce un error (lo que en Python se denomina una excepción). Para calcular la matriz transpuesta empleamos el método **T** o también **transpose**. "
   ]
  },
  {
   "cell_type": "markdown",
   "metadata": {},
   "source": [
    "###<div class=\"alert alert-warning\">Calcula el determinante, la traza y la inversa de las matrices anteriores y de sus transpuestas.</div>"
   ]
  },
  {
   "cell_type": "code",
   "execution_count": 7,
   "metadata": {},
   "outputs": [],
   "source": []
  },
  {
   "cell_type": "markdown",
   "metadata": {},
   "source": [
    "Para calcular el rango empleamos **rank** y para reducir a la forma escalonada **rref**."
   ]
  },
  {
   "cell_type": "markdown",
   "metadata": {},
   "source": [
    "###<div class=\"alert alert-warning\">Calcula el rango y la traza de las matrices. Reduce las matrices a la forma escalonada.</div>"
   ]
  },
  {
   "cell_type": "code",
   "execution_count": null,
   "metadata": {},
   "outputs": [],
   "source": []
  },
  {
   "cell_type": "code",
   "execution_count": 33,
   "metadata": {},
   "outputs": [],
   "source": []
  },
  {
   "cell_type": "markdown",
   "metadata": {},
   "source": [
    "Para \"construir\" matrices especiales  existen otros contructores. Los más sencillos son: **eye**, que crea la matriz identidad, **zeros**, que crea una matriz llena de ceros, **ones** que crea una matriz llena de unos y **diag** que crea una matriz con la diagonal que le especifiquemos."
   ]
  },
  {
   "cell_type": "markdown",
   "metadata": {},
   "source": [
    "###<div class=\"alert alert-warning\">Crea matrices utilizando los constructores anteriores.</div>"
   ]
  },
  {
   "cell_type": "code",
   "execution_count": 13,
   "metadata": {},
   "outputs": [],
   "source": [
    "A=diag(3,5,7)"
   ]
  },
  {
   "cell_type": "code",
   "execution_count": 14,
   "metadata": {},
   "outputs": [
    {
     "data": {
      "text/plain": [
       "sympy.matrices.dense.MutableDenseMatrix"
      ]
     },
     "execution_count": 14,
     "metadata": {},
     "output_type": "execute_result"
    }
   ],
   "source": [
    "type(A)"
   ]
  },
  {
   "cell_type": "markdown",
   "metadata": {},
   "source": [
    "Para resolver un sistema lineal podemos emplear el comando **solve**, escribiendo las ecuaciones entre corchetes y separados por comas. Pero  hay un comando especialmente dedicado: **solve_linear_system**. Tiene un único parámetro, que es la matriz ampliada del sistema. Además después debemos escribir, en orden, las variables del sistema."
   ]
  },
  {
   "cell_type": "markdown",
   "metadata": {},
   "source": [
    "###<div class=\"alert alert-warning\">Resuelve el sistema lineal:</div>\n",
    "\n",
    "$$\n",
    "\\begin{cases}\n",
    "3x+2y-z=3\\\\\n",
    "x+y-2z=-5\\\\\n",
    "2x+y+3z=16\n",
    "\\end{cases}\n",
    "$$"
   ]
  },
  {
   "cell_type": "code",
   "execution_count": 16,
   "metadata": {},
   "outputs": [
    {
     "data": {
      "text/latex": [
       "$$\\left[\\begin{matrix}3 & 2 & -1 & 3\\\\1 & 1 & -2 & -5\\\\2 & 1 & 3 & 16\\end{matrix}\\right]$$"
      ],
      "text/plain": [
       "⎡3  2  -1  3 ⎤\n",
       "⎢            ⎥\n",
       "⎢1  1  -2  -5⎥\n",
       "⎢            ⎥\n",
       "⎣2  1  3   16⎦"
      ]
     },
     "execution_count": 16,
     "metadata": {},
     "output_type": "execute_result"
    }
   ],
   "source": [
    "M=Matrix([[3,2,-1,3],[1,1,-2,-5],[2,1,3,16]]); M"
   ]
  },
  {
   "cell_type": "code",
   "execution_count": 17,
   "metadata": {},
   "outputs": [
    {
     "data": {
      "text/latex": [
       "$$\\begin{Bmatrix}x : 1, & y : 2, & z : 4\\end{Bmatrix}$$"
      ],
      "text/plain": [
       "{x: 1, y: 2, z: 4}"
      ]
     },
     "execution_count": 17,
     "metadata": {},
     "output_type": "execute_result"
    }
   ],
   "source": [
    "solve_linear_system(M,x,y,z)"
   ]
  },
  {
   "cell_type": "markdown",
   "metadata": {},
   "source": [
    "El método **row_del** sirve para borrar filas de una matriz."
   ]
  },
  {
   "cell_type": "markdown",
   "metadata": {},
   "source": [
    "###<div class=\"alert alert-warning\">Borra la última fila del sistema y resuelve el sistema indeterminado.</div>"
   ]
  },
  {
   "cell_type": "code",
   "execution_count": null,
   "metadata": {},
   "outputs": [],
   "source": []
  },
  {
   "cell_type": "markdown",
   "metadata": {},
   "source": [
    "Si intentamos resolver un sistema incompatible, Sympy no nos devuelve ninguna solución, por lo que parece que no está funcionando correctamente."
   ]
  },
  {
   "cell_type": "markdown",
   "metadata": {},
   "source": [
    "###<div class=\"alert alert-warning\">Comprueba que el siguiente sistema es incompatible:</div>\n",
    "$$\n",
    "\\begin{cases}\n",
    "x+y-z &=1\\\\\n",
    "x-y+3z&=3\\\\\n",
    "3x+y+z &=6\n",
    "\\end{cases}\n",
    "$$"
   ]
  },
  {
   "cell_type": "code",
   "execution_count": 23,
   "metadata": {},
   "outputs": [
    {
     "data": {
      "text/latex": [
       "$$\\left[\\begin{matrix}1 & 1 & -1 & 1\\\\1 & -1 & 3 & 3\\\\3 & 1 & 1 & 6\\end{matrix}\\right]$$"
      ],
      "text/plain": [
       "⎡1  1   -1  1⎤\n",
       "⎢            ⎥\n",
       "⎢1  -1  3   3⎥\n",
       "⎢            ⎥\n",
       "⎣3  1   1   6⎦"
      ]
     },
     "execution_count": 23,
     "metadata": {},
     "output_type": "execute_result"
    }
   ],
   "source": [
    "M=Matrix([[1,1,-1,1],[1,-1,3,3],[3,1,1,6]]);M"
   ]
  },
  {
   "cell_type": "markdown",
   "metadata": {},
   "source": [
    "Los sistemas compatibles indeterminados se caracterizan por tener infinitas soluciones. Desde un punto de vista geométrico, esto se debe a que la aplicación lineal tiene un núcleo no trivial. Para encontrar el núcleo de una matriz empleamos **nullspace**."
   ]
  },
  {
   "cell_type": "markdown",
   "metadata": {},
   "source": [
    "###<div class=\"alert alert-warning\">Encontrar el núcleo de la matriz $B$.</div>"
   ]
  },
  {
   "cell_type": "code",
   "execution_count": null,
   "metadata": {},
   "outputs": [],
   "source": []
  }
 ],
 "metadata": {
  "kernelspec": {
   "display_name": "Python 3",
   "language": "python",
   "name": "python3"
  },
  "language_info": {
   "codemirror_mode": {
    "name": "ipython",
    "version": 3
   },
   "file_extension": ".py",
   "mimetype": "text/x-python",
   "name": "python",
   "nbconvert_exporter": "python",
   "pygments_lexer": "ipython3",
   "version": "3.6.5"
  }
 },
 "nbformat": 4,
 "nbformat_minor": 1
}
