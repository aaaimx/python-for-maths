{
 "cells": [
  {
   "cell_type": "markdown",
   "metadata": {},
   "source": [
    "#<div class=\"alert alert-success\">Polinomios</div>"
   ]
  },
  {
   "cell_type": "markdown",
   "metadata": {},
   "source": [
    "Una de las virtudes de Sympy es que puede realizar operaciones con expresiones algebraicas. Las más simples de estas expresiones algebraicas son los polinomios. Sin embargo Sympy no reconoce, por defecto, a las letras, como expresiones algebraicas (en principio para Python las letras son nombres de variables). Para informar a Sympy de que vamos a trabajar con una letra debemos utilizar la función **symbols**."
   ]
  },
  {
   "cell_type": "code",
   "execution_count": 9,
   "metadata": {},
   "outputs": [],
   "source": [
    "from sympy import *\n",
    "init_printing()\n",
    "x = symbols('x')\n",
    "y = symbols('y')"
   ]
  },
  {
   "cell_type": "markdown",
   "metadata": {},
   "source": [
    "Para desarrollar polinomios utilizamos el comando **expand**. De esta forma podemos simplificar todos las operaciones combinadas donde aparezcan sumas, restas, productos y potencias. Aunque esta función tiene muchos argumentos optativos, en principio la usaremos del modo más sencillo."
   ]
  },
  {
   "cell_type": "markdown",
   "metadata": {},
   "source": [
    "###<div class=\"alert alert-warning\">Realiza las siguientes operaciones con polinomios:</div>\n",
    "\n",
    "\n",
    "* $x^3+(3x^2+7)(4x-1)+(2x-3)^4$\n",
    "\n",
    "\n",
    "* $(4x^2+5)^2$\n",
    "\n",
    "\n",
    "* $(x+y)^3$"
   ]
  },
  {
   "cell_type": "code",
   "execution_count": 13,
   "metadata": {},
   "outputs": [
    {
     "data": {
      "image/png": "[encoded data removed]",
      "text/latex": [
       "$$13 x^{3} - 3 x^{2} + 28 x - 7$$"
      ],
      "text/plain": [
       "    3      2           \n",
       "13⋅x  - 3⋅x  + 28⋅x - 7"
      ]
     },
     "execution_count": 13,
     "metadata": {},
     "output_type": "execute_result"
    }
   ],
   "source": [
    "expand(x**3 +(3*x**2+7)*(4*x-1))"
   ]
  },
  {
   "cell_type": "code",
   "execution_count": 10,
   "metadata": {},
   "outputs": [
    {
     "data": {
      "image/png": "[encoded data removed]",
      "text/latex": [
       "$$\\left(x + y\\right)^{3}$$"
      ],
      "text/plain": [
       "       3\n",
       "(x + y) "
      ]
     },
     "execution_count": 10,
     "metadata": {},
     "output_type": "execute_result"
    }
   ],
   "source": [
    "simplify((x+y)**3)"
   ]
  },
  {
   "cell_type": "markdown",
   "metadata": {},
   "source": [
    "Para realizar una división euclídea de polinomios utilizamos la función **div**. Esta nos devuelve dos resultados en forma de lista: el primero es el cociente y el segundo es el resto."
   ]
  },
  {
   "cell_type": "markdown",
   "metadata": {},
   "source": [
    "###<div class=\"alert alert-warning\">Realiza la siguiente división de polinomios, comprobando el resultado:</div>\n",
    "\n",
    "\n",
    "* $(x^3+5x^2-3x+2):(4x-3)$"
   ]
  },
  {
   "cell_type": "code",
   "execution_count": 40,
   "metadata": {},
   "outputs": [],
   "source": []
  },
  {
   "cell_type": "code",
   "execution_count": 20,
   "metadata": {},
   "outputs": [],
   "source": []
  },
  {
   "cell_type": "markdown",
   "metadata": {},
   "source": [
    "Para factorizar polinomios en una variable, podemos utilizar el comando **factor**."
   ]
  },
  {
   "cell_type": "markdown",
   "metadata": {},
   "source": [
    "###<div class=\"alert alert-warning\">Factoriza los siguientes polinomios y comprueba el resultado:</div>\n",
    "\n",
    "\n",
    "* $p= x^4-x^3-7x^2+13x-6 \\qquad q= x^3-5x^2+8x-4$"
   ]
  },
  {
   "cell_type": "code",
   "execution_count": 37,
   "metadata": {},
   "outputs": [],
   "source": []
  },
  {
   "cell_type": "code",
   "execution_count": 36,
   "metadata": {},
   "outputs": [
    {
     "data": {
      "image/png": "[encoded data removed]",
      "text/latex": [
       "$$\\left(x - 2\\right)^{2} \\left(x - 1\\right)$$"
      ],
      "text/plain": [
       "       2        \n",
       "(x - 2) ⋅(x - 1)"
      ]
     },
     "execution_count": 36,
     "metadata": {},
     "output_type": "execute_result"
    }
   ],
   "source": [
    "factor(q)"
   ]
  },
  {
   "cell_type": "markdown",
   "metadata": {},
   "source": [
    "###<div class=\"alert alert-warning\">Calcula el máximo común denominador y el mínimo común múltiplo de los polinomios anteriores.</div>"
   ]
  },
  {
   "cell_type": "code",
   "execution_count": 42,
   "metadata": {},
   "outputs": [
    {
     "data": {
      "image/png": "[encoded data removed]",
      "text/latex": [
       "$$x^{5} - 3 x^{4} - 5 x^{3} + 27 x^{2} - 32 x + 12$$"
      ],
      "text/plain": [
       " 5      4      3       2            \n",
       "x  - 3⋅x  - 5⋅x  + 27⋅x  - 32⋅x + 12"
      ]
     },
     "execution_count": 42,
     "metadata": {},
     "output_type": "execute_result"
    }
   ],
   "source": [
    "lcm(p,q)"
   ]
  },
  {
   "cell_type": "markdown",
   "metadata": {},
   "source": [
    "Para sustituir una letra por un número o por una expresión, se utiliza el método **subs**. A este le debemos facilitar dos argumentos: el primero es la letra que queremos sustituir, y el segundo debe ser el número o expresión por la que lo vamos a sustituir."
   ]
  },
  {
   "cell_type": "markdown",
   "metadata": {},
   "source": [
    "###<div class=\"alert alert-warning\">Calcula el valor de $p(x)$ cuando $x$ es 5 y cuando $x$ es 1. Sustituye $x$ por $y^2-1$.</div>"
   ]
  },
  {
   "cell_type": "code",
   "execution_count": 47,
   "metadata": {},
   "outputs": [],
   "source": []
  },
  {
   "cell_type": "markdown",
   "metadata": {},
   "source": [
    "Aunque lo veremos en más profundidad en otro notebook, el comando para encontrar las raíces de un polinomios el **solve**."
   ]
  },
  {
   "cell_type": "markdown",
   "metadata": {},
   "source": [
    "###<div class=\"alert alert-warning\">Resuelve la ecuación $p(x)=0$.</div>"
   ]
  },
  {
   "cell_type": "code",
   "execution_count": 47,
   "metadata": {},
   "outputs": [],
   "source": []
  },
  {
   "cell_type": "code",
   "execution_count": null,
   "metadata": {},
   "outputs": [],
   "source": []
  }
 ],
 "metadata": {
  "kernelspec": {
   "display_name": "Python 3",
   "language": "python",
   "name": "python3"
  },
  "language_info": {
   "codemirror_mode": {
    "name": "ipython",
    "version": 3
   },
   "file_extension": ".py",
   "mimetype": "text/x-python",
   "name": "python",
   "nbconvert_exporter": "python",
   "pygments_lexer": "ipython3",
   "version": "3.6.5"
  }
 },
 "nbformat": 4,
 "nbformat_minor": 1
}
