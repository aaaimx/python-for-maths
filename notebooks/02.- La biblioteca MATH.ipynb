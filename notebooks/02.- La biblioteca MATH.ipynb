{
 "cells": [
  {
   "cell_type": "markdown",
   "metadata": {},
   "source": [
    "#<div class=\"alert alert-success\">La biblioteca MATH.</div>"
   ]
  },
  {
   "cell_type": "markdown",
   "metadata": {},
   "source": [
    "Para realizar cálculos con las funciones habituales que aparecen en las calculadoras científicas debemos **importar ciertas bibliotecas** (también denominados módulos). La más sencilla de usar es la biblioteca **MATH** que viene de serie con Python. Existen **diversas formas de cargar las bibliotecas** y cada una es adecuada en función de lo que estemos realizando.\n",
    "\n",
    "Para obtener un listado de todas las funciones disponibles en la biblioteca *math* escribimos \"math.\" y **presionamos el tabulador**. Si hemos comenzado a escribir una función, el tabulador nos la puede completar."
   ]
  },
  {
   "cell_type": "markdown",
   "metadata": {},
   "source": [
    "###<div class=\"alert alert-warning\">Carga la bibliteca Math y realiza los siguientes cálculos:</div>\n",
    "\n",
    "\n",
    "* $\\sqrt{56}$\n",
    "\n",
    "\n",
    "* $\\cos(\\pi/3)$\n",
    "\n",
    "\n",
    "* $\\ln(9)$\n",
    "\n",
    "\n",
    "* Consulta la ayuda de la función $\\log$ y calcula $\\log_3(89)$. Comprueba el resultado.\n",
    "\n",
    "\n",
    "* $\\arccos(0.5)$\n",
    "\n",
    "\n",
    "* $\\tan(45^o)$"
   ]
  },
  {
   "cell_type": "markdown",
   "metadata": {},
   "source": [
    "###<div class=\"alert alert-warning\">Calcula:</div>\n",
    "\n",
    "\n",
    "* $\\pi^2$\n",
    "\n",
    "\n",
    "* $e^6$\n",
    "\n",
    "\n",
    "* $\\exp(6)$"
   ]
  },
  {
   "cell_type": "markdown",
   "metadata": {},
   "source": [
    "Cargar la biblioteca de la manera que lo hemos hecho tiene el \"inconveniente\" de que siempre tenemos que escribir \"math.\" antes de escribir la función. Aunque en realidad esto es una buena idea, en matemáticas estamos más acostrumbrados a escribir únicamente el nombre de la función. Para ello debemos cargar la biblioteca con la sentencia **from math import * **."
   ]
  },
  {
   "cell_type": "markdown",
   "metadata": {},
   "source": [
    "###<div class=\"alert alert-warning\">Carga la biblioteca con la sentencia *from ... import* y calcula:<div>\n",
    "\n",
    "\n",
    "* $\\cos(\\ln(9)$)\n",
    "\n",
    "\n",
    "* $45!$\n",
    "\n",
    "\n",
    "* $\\gamma(46)$\n",
    "\n",
    "\n",
    "* $\\sqrt{89}$"
   ]
  }
 ],
 "metadata": {
  "kernelspec": {
   "display_name": "Python 3",
   "language": "python",
   "name": "python3"
  },
  "language_info": {
   "codemirror_mode": {
    "name": "ipython",
    "version": 3
   },
   "file_extension": ".py",
   "mimetype": "text/x-python",
   "name": "python",
   "nbconvert_exporter": "python",
   "pygments_lexer": "ipython3",
   "version": "3.6.5"
  }
 },
 "nbformat": 4,
 "nbformat_minor": 1
}
