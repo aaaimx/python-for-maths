{
 "cells": [
  {
   "cell_type": "markdown",
   "metadata": {},
   "source": [
    "#<div class=\"alert alert-success\">Transformada de Laplace</div>"
   ]
  },
  {
   "cell_type": "code",
   "execution_count": 1,
   "metadata": {},
   "outputs": [],
   "source": [
    "from sympy import *\n",
    "init_printing(use_latex='mathjax')\n",
    "x, y, z = symbols('x, y, z')"
   ]
  },
  {
   "cell_type": "markdown",
   "metadata": {},
   "source": [
    "La transformada de Laplace de una función $f$ definida para valores positivos, se realiza con la integral\n",
    "\n",
    "$$\n",
    "\\mathscr{L}(f(t))=\\int_0^\\infty f(t)\\cdot e^{-st} dt \n",
    "$$\n",
    "\n",
    "Sin embargo esta es un integral impropia y tiene serias limitaciones en las condiciones de convergencia. Lo cierto es que la transformada de Laplace se suele utilizar mecánicamente y se suelen obviar estas condiciones de convergencia. "
   ]
  },
  {
   "cell_type": "markdown",
   "metadata": {},
   "source": [
    "###<div class=\"alert alert-warning\">Utilizando la definición, calcula la transformada de Laplace de la función $\\cos(t)$.</div>"
   ]
  },
  {
   "cell_type": "code",
   "execution_count": 3,
   "metadata": {},
   "outputs": [
    {
     "data": {
      "text/latex": [
       "$$\\frac{s}{s^{2} + 1}$$"
      ],
      "text/plain": [
       "  s   \n",
       "──────\n",
       " 2    \n",
       "s  + 1"
      ]
     },
     "execution_count": 3,
     "metadata": {},
     "output_type": "execute_result"
    }
   ],
   "source": [
    "var('t')\n",
    "var('s', positive = True)\n",
    "Integral(cos(t)*exp(-s*t),(t,0,oo)).doit()"
   ]
  },
  {
   "cell_type": "markdown",
   "metadata": {},
   "source": [
    "Para calcular la transformada de Laplace utilizamos **laplace_transform**. Le debemos facilitar tres argumentos: el primero es la función, el segundo la variable de la función de partida (en general siempre se llama $t$), y la variable de la función transformada (en general siempre se llama $s$).\n",
    "\n",
    "Este comando nos devuelve tres resultados. El primero es la transformada de Laplace en si misma. El segundo tiene que ver con el dominio de definición de la función $F(s)$ y el tercero son condiciones adicionales para asegurar la convergencia de la integral.\n",
    "\n",
    "Como nos suele interesar únicamente la transformada, debemos acceder al primer elemento de la tupla. Ello se consigue colocando un **[0]**, pues en Python los índices empiezan en cero."
   ]
  },
  {
   "cell_type": "markdown",
   "metadata": {},
   "source": [
    "###<div class=\"alert alert-warning\">Calcula la transformada de Laplace de las funciones:</div>\n",
    "\n",
    "$$\n",
    "\\mathscr{L}(\\sin(at)) \\qquad  \\mathscr{L}(\\cos(at)) \\qquad \\mathscr{L}(e^{at})\n",
    "$$"
   ]
  },
  {
   "cell_type": "code",
   "execution_count": 5,
   "metadata": {},
   "outputs": [
    {
     "data": {
      "text/latex": [
       "$$\\frac{1}{s}$$"
      ],
      "text/plain": [
       "1\n",
       "─\n",
       "s"
      ]
     },
     "execution_count": 5,
     "metadata": {},
     "output_type": "execute_result"
    }
   ],
   "source": [
    "laplace_transform(Heaviside(t),t,s)[0]"
   ]
  },
  {
   "cell_type": "markdown",
   "metadata": {},
   "source": [
    "###<div class=\"alert alert-warning\">Calcula la transformada de Laplace de constantes y polinomios.</div>"
   ]
  },
  {
   "cell_type": "code",
   "execution_count": 55,
   "metadata": {},
   "outputs": [
    {
     "data": {
      "text/latex": [
       "$$\\frac{1}{s^{8}} \\left(24 s^{4} + 120 s^{2} + 5040\\right)$$"
      ],
      "text/plain": [
       "   ⎛ 4      2      ⎞\n",
       "24⋅⎝s  + 5⋅s  + 210⎠\n",
       "────────────────────\n",
       "          8         \n",
       "         s          "
      ]
     },
     "execution_count": 55,
     "metadata": {},
     "output_type": "execute_result"
    }
   ],
   "source": [
    "laplace_transform(t**7+t**5+4*t**3,t,s)[0]"
   ]
  },
  {
   "cell_type": "markdown",
   "metadata": {},
   "source": [
    "###<div class=\"alert alert-warning\">Calcular la transformada de Laplace de la función $\\delta$ de Dirac y de la función escalón de Heaviside.</div>"
   ]
  },
  {
   "cell_type": "code",
   "execution_count": null,
   "metadata": {},
   "outputs": [],
   "source": []
  },
  {
   "cell_type": "markdown",
   "metadata": {},
   "source": [
    "###<div class=\"alert alert-warning\">Calcula la transformada de Laplace:</div>\n",
    "\n",
    "$$\n",
    "\\mathscr{L}\\left(t^3 \\cdot \\exp(-5t)\\cdot \\cos(2t)\\right)\n",
    "$$"
   ]
  },
  {
   "cell_type": "code",
   "execution_count": 1,
   "metadata": {},
   "outputs": [
    {
     "ename": "NameError",
     "evalue": "name 'laplace_transform' is not defined",
     "output_type": "error",
     "traceback": [
      "\u001b[1;31m---------------------------------------------------------------------------\u001b[0m\n\u001b[1;31mNameError\u001b[0m                                 Traceback (most recent call last)",
      "\u001b[1;32m<ipython-input-1-f3e3c3ab4d64>\u001b[0m in \u001b[0;36m<module>\u001b[1;34m()\u001b[0m\n\u001b[1;32m----> 1\u001b[1;33m \u001b[0mlaplace_transform\u001b[0m\u001b[1;33m(\u001b[0m\u001b[0mt\u001b[0m\u001b[1;33m**\u001b[0m\u001b[1;36m3\u001b[0m\u001b[1;33m*\u001b[0m\u001b[0mexp\u001b[0m\u001b[1;33m(\u001b[0m\u001b[1;33m-\u001b[0m\u001b[1;36m5\u001b[0m\u001b[1;33m*\u001b[0m\u001b[0mt\u001b[0m\u001b[1;33m)\u001b[0m\u001b[1;33m*\u001b[0m\u001b[0mcos\u001b[0m\u001b[1;33m(\u001b[0m\u001b[1;36m2\u001b[0m\u001b[1;33m*\u001b[0m\u001b[0mt\u001b[0m\u001b[1;33m)\u001b[0m\u001b[1;33m,\u001b[0m\u001b[0mt\u001b[0m\u001b[1;33m,\u001b[0m\u001b[0ms\u001b[0m\u001b[1;33m)\u001b[0m\u001b[1;33m[\u001b[0m\u001b[1;36m0\u001b[0m\u001b[1;33m]\u001b[0m\u001b[1;33m\u001b[0m\u001b[0m\n\u001b[0m",
      "\u001b[1;31mNameError\u001b[0m: name 'laplace_transform' is not defined"
     ]
    }
   ],
   "source": [
    "laplace_transform(t**3*exp(-5*t)*cos(2*t),t,s)[0]"
   ]
  },
  {
   "cell_type": "markdown",
   "metadata": {},
   "source": [
    "###<div class=\"alert alert-warning\">Calcula la transformada del seno. Deriva la función y calcula la transformada. Multiplica la función por $e^{5t}$ y vuelve a calcular la transformada.</div>"
   ]
  },
  {
   "cell_type": "code",
   "execution_count": 6,
   "metadata": {},
   "outputs": [],
   "source": []
  },
  {
   "cell_type": "markdown",
   "metadata": {},
   "source": [
    "La transformada inversa de Laplace se calcula con **inverse_laplace_transform**. Ahora debemos poner primero la $s$ y después la $t$."
   ]
  },
  {
   "cell_type": "markdown",
   "metadata": {},
   "source": [
    "###<div class=\"alert alert-warning\">Calcula la transformada inversa de Laplace:</div>\n",
    "\n",
    "$$\n",
    "\\mathscr{L}^{-1}\\left(\\frac{1}{(s+1)^2\\cdot(s+2)}\\right)\n",
    "$$"
   ]
  },
  {
   "cell_type": "code",
   "execution_count": 85,
   "metadata": {},
   "outputs": [
    {
     "data": {
      "text/latex": [
       "$$\\left(\\left(t - 1\\right) e^{t} + 1\\right) e^{- 2 t} \\theta\\left(t\\right)$$"
      ],
      "text/plain": [
       "⎛         t    ⎞  -2⋅t             \n",
       "⎝(t - 1)⋅ℯ  + 1⎠⋅ℯ    ⋅Heaviside(t)"
      ]
     },
     "execution_count": 85,
     "metadata": {},
     "output_type": "execute_result"
    }
   ],
   "source": [
    "inverse_laplace_transform(1/((s+1)**2*(s+2)),s,t)"
   ]
  },
  {
   "cell_type": "code",
   "execution_count": null,
   "metadata": {},
   "outputs": [],
   "source": [
    "step()"
   ]
  }
 ],
 "metadata": {
  "kernelspec": {
   "display_name": "Python 3",
   "language": "python",
   "name": "python3"
  },
  "language_info": {
   "codemirror_mode": {
    "name": "ipython",
    "version": 3
   },
   "file_extension": ".py",
   "mimetype": "text/x-python",
   "name": "python",
   "nbconvert_exporter": "python",
   "pygments_lexer": "ipython3",
   "version": "3.6.5"
  }
 },
 "nbformat": 4,
 "nbformat_minor": 1
}
