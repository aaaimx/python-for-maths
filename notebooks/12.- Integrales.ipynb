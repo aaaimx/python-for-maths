{
 "cells": [
  {
   "cell_type": "markdown",
   "metadata": {},
   "source": [
    "#<div class=\"alert alert-success\">Integrales</div>"
   ]
  },
  {
   "cell_type": "code",
   "execution_count": 2,
   "metadata": {},
   "outputs": [],
   "source": [
    "from sympy import *\n",
    "init_printing()\n",
    "x, y, z = symbols('x, y, z')"
   ]
  },
  {
   "cell_type": "markdown",
   "metadata": {},
   "source": [
    "Sympy puede calcular tanto integrales definidas como indefinidas en modo exacto. Para ello se utiliza el comando **integrate**. Si escribimos **Integral** (con mayúsculas) no efectúa la integral. Para realizarla debemos añadir el método **doit**.\n",
    "\n",
    "Para calcular la primitiva, solamente tenemos que escribir la función. Como segundo parámetro podemos poner la letra sobre la que se efectúa la integral, pero no es necesario."
   ]
  },
  {
   "cell_type": "markdown",
   "metadata": {},
   "source": [
    "###<div class=\"alert alert-warning\">Calcula las siguientes integrales indefinidas, derivando para comprobar algún resultado:</div>\n",
    "\n",
    "\n",
    "* $\\displaystyle \\int x^5$\n",
    "\n",
    "\n",
    "* $\\displaystyle \\int 4y^3-5y$\n",
    "\n",
    "\n",
    "* $ \\displaystyle \\int x\\cos(x)$"
   ]
  },
  {
   "cell_type": "code",
   "execution_count": 31,
   "metadata": {},
   "outputs": [],
   "source": []
  },
  {
   "cell_type": "code",
   "execution_count": null,
   "metadata": {},
   "outputs": [],
   "source": []
  },
  {
   "cell_type": "markdown",
   "metadata": {},
   "source": [
    "Para calcular las integrales indefinidas le debemos facilitar el límite inferior y superior. Para ello, como segundo argumento, debemos escribir lo que Python denomina un tupla. Entre paréntesis escibimos la variable, el límite inferior y el superior."
   ]
  },
  {
   "cell_type": "markdown",
   "metadata": {},
   "source": [
    "###<div class=\"alert alert-warning\">Calcula las integrales definidas:</div>\n",
    "\n",
    "\n",
    "* $\\displaystyle \\int_0^4 4x^3-4x$\n",
    "\n",
    "\n",
    "* $\\displaystyle \\int_0^{\\pi/2} \\cos(x)$"
   ]
  },
  {
   "cell_type": "markdown",
   "metadata": {},
   "source": [
    "Sympy también pueda calcular integrales impropias (por ejemplo con límite igual a infinito). Si la integral no converge nos informa de ello en la solución. \n"
   ]
  },
  {
   "cell_type": "markdown",
   "metadata": {},
   "source": [
    "###<div class=\"alert alert-warning\">Calcula las integrales impropias:</div>\n",
    "\n",
    "\n",
    "* $\\displaystyle \\int_1^\\infty \\frac{1}{x}$\n",
    "\n",
    "\n",
    "* $\\displaystyle \\int_2^\\infty \\frac{1}{x^2}$"
   ]
  },
  {
   "cell_type": "code",
   "execution_count": 31,
   "metadata": {},
   "outputs": [],
   "source": []
  },
  {
   "cell_type": "code",
   "execution_count": null,
   "metadata": {},
   "outputs": [],
   "source": []
  },
  {
   "cell_type": "markdown",
   "metadata": {},
   "source": [
    "Las integrales de fracciones algebraicas se pueden realizar descomponiendo en fracciones simples e integrando cada término. La función para descomponer en fracciones simples es **apart**."
   ]
  },
  {
   "cell_type": "markdown",
   "metadata": {},
   "source": [
    "###<div class=\"alert alert-warning\">Calcula la integral de la fracción algebraica. Descompón en fracciones simples e integra:</div>\n",
    "\n",
    "\n",
    "$$\\int \\frac{5x+3}{x^2+2x-3}$$"
   ]
  },
  {
   "cell_type": "code",
   "execution_count": 31,
   "metadata": {},
   "outputs": [],
   "source": []
  },
  {
   "cell_type": "code",
   "execution_count": 31,
   "metadata": {},
   "outputs": [],
   "source": []
  },
  {
   "cell_type": "markdown",
   "metadata": {},
   "source": [
    "Cuando hay muchas letras, o sea cuando tenemos una integral dependiente de parámetros, debemos especificar sin falta la variable sobre la que queremos integrar como segundo argumento."
   ]
  },
  {
   "cell_type": "markdown",
   "metadata": {},
   "source": [
    "###<div class=\"alert alert-warning\">Calcula la integral:</div>\n",
    "\n",
    "\n",
    "$$\\int A \\cdot \\cos(wt) dt$$"
   ]
  },
  {
   "cell_type": "code",
   "execution_count": 31,
   "metadata": {},
   "outputs": [],
   "source": []
  },
  {
   "cell_type": "code",
   "execution_count": 31,
   "metadata": {},
   "outputs": [],
   "source": []
  },
  {
   "cell_type": "markdown",
   "metadata": {},
   "source": [
    "###<div class=\"alert alert-warning\">Calcula la integral de la campana de Gauss:</div>\n",
    "\n",
    "\n",
    "$$\\int \\exp(-x^2)$$"
   ]
  },
  {
   "cell_type": "code",
   "execution_count": 31,
   "metadata": {},
   "outputs": [],
   "source": []
  },
  {
   "cell_type": "code",
   "execution_count": 70,
   "metadata": {},
   "outputs": [],
   "source": []
  },
  {
   "cell_type": "code",
   "execution_count": 71,
   "metadata": {},
   "outputs": [],
   "source": []
  }
 ],
 "metadata": {
  "kernelspec": {
   "display_name": "Python 3",
   "language": "python",
   "name": "python3"
  },
  "language_info": {
   "codemirror_mode": {
    "name": "ipython",
    "version": 3
   },
   "file_extension": ".py",
   "mimetype": "text/x-python",
   "name": "python",
   "nbconvert_exporter": "python",
   "pygments_lexer": "ipython3",
   "version": "3.6.5"
  }
 },
 "nbformat": 4,
 "nbformat_minor": 1
}
