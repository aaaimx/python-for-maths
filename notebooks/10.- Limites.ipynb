{
 "cells": [
  {
   "cell_type": "markdown",
   "metadata": {},
   "source": [
    "#<div class=\"alert alert-success\">Límites</div>"
   ]
  },
  {
   "cell_type": "code",
   "execution_count": 1,
   "metadata": {},
   "outputs": [],
   "source": [
    "from sympy import *\n",
    "init_printing()\n",
    "x, y, z, h = symbols('x, y, z, h')"
   ]
  },
  {
   "cell_type": "markdown",
   "metadata": {},
   "source": [
    "Para calcular límites se utiliza la función **limit**. Esta función puede admitir 4 argumentos, siendo el último opcional. El primer argumento debe ser la función a que le queremos calcular el límite. El segundo es la variable que haremos variar en el límite. El tercero es el punto hacia el que tiende la variable (para escribir infinito podemos escribir **oo**). El cuarto sirve para los límites laterales: si escribimos **dir = '+'** calculamos el límite por la derecha, y escribiendo **dir 0 '-'** calculamos el límite por la izquierda. Por defecto Sympy calcula los límites por la derecha."
   ]
  },
  {
   "cell_type": "markdown",
   "metadata": {},
   "source": [
    "###<div class=\"alert alert-warning\">Calcula la expresión $\\displaystyle\\frac{\\sin(x)}{x}$ para números cercanos a cero, dibuja la función y calcula:\n",
    "\n",
    "\n",
    " $$\\lim_{x\\rightarrow 0}\\frac{\\sin(x)}{x}$$"
   ]
  },
  {
   "cell_type": "code",
   "execution_count": 2,
   "metadata": {},
   "outputs": [
    {
     "data": {
      "image/png": "[encoded data removed]",
      "text/plain": [
       "<matplotlib.figure.Figure at 0x496d750>"
      ]
     },
     "metadata": {},
     "output_type": "display_data"
    },
    {
     "data": {
      "text/plain": [
       "<sympy.plotting.plot.Plot at 0x496d690>"
      ]
     },
     "execution_count": 2,
     "metadata": {},
     "output_type": "execute_result"
    }
   ],
   "source": [
    "plot(sin(x)/x)"
   ]
  },
  {
   "cell_type": "markdown",
   "metadata": {},
   "source": [
    "###<div class=\"alert alert-warning\">Calcula los límites laterales en $x=0$ de la función:</div>\n",
    "\n",
    "\n",
    "$$\\displaystyle f(x)=\\frac{1}{x}$$"
   ]
  },
  {
   "cell_type": "code",
   "execution_count": 30,
   "metadata": {},
   "outputs": [
    {
     "data": {
      "image/png": "[encoded data removed]",
      "text/latex": [
       "$$\\infty$$"
      ],
      "text/plain": [
       "∞"
      ]
     },
     "execution_count": 30,
     "metadata": {},
     "output_type": "execute_result"
    }
   ],
   "source": [
    "pl"
   ]
  },
  {
   "cell_type": "markdown",
   "metadata": {},
   "source": [
    "Si escribimos **Limit** con mayúscula, Sympy no calcula el límite. Simplemente lo escribe. Si queremos que verdaderamente calcule el límite debemos utilizar el método **doit**."
   ]
  },
  {
   "cell_type": "markdown",
   "metadata": {},
   "source": [
    "###<div class=\"alert alert-warning\">Calcula el límite en el infinito:</div>\n",
    "\n",
    "\n",
    "*  $\\displaystyle \\lim_{x\\rightarrow \\infty} \\left(1+\\frac{1}{x}\\right)^x$"
   ]
  },
  {
   "cell_type": "code",
   "execution_count": 33,
   "metadata": {},
   "outputs": [
    {
     "data": {
      "image/png": "[encoded data removed]",
      "text/latex": [
       "$$e$$"
      ],
      "text/plain": [
       "ℯ"
      ]
     },
     "execution_count": 33,
     "metadata": {},
     "output_type": "execute_result"
    }
   ],
   "source": [
    "limit((1+1/x)**x,x,oo)"
   ]
  },
  {
   "cell_type": "markdown",
   "metadata": {},
   "source": [
    "Para calcular la derivada de una función $f(x)$ en un punto $x$ debemos realizar el siguiente límite:\n",
    "\n",
    "\n",
    "$$\\lim_{h\\rightarrow 0} \\frac{f(x+h)-f(x)}{h}$$"
   ]
  },
  {
   "cell_type": "markdown",
   "metadata": {},
   "source": [
    "###<div class=\"alert alert-warning\">Calcular la derivada de la función $f(x)=\\cos(x)$ utilizando la definición con límites.</div>"
   ]
  },
  {
   "cell_type": "code",
   "execution_count": 27,
   "metadata": {},
   "outputs": [
    {
     "data": {
      "image/png": "[encoded data removed]",
      "text/latex": [
       "$$0$$"
      ],
      "text/plain": [
       "0"
      ]
     },
     "execution_count": 27,
     "metadata": {},
     "output_type": "execute_result"
    }
   ],
   "source": [
    "limit((2+x)**(1/x),x,0, dir='-')"
   ]
  },
  {
   "cell_type": "markdown",
   "metadata": {},
   "source": [
    "###<div class=\"alert alert-warning\">Comprueba la continuidad de la función en  $x=0$.</div>\n",
    "\n",
    "\n",
    "$$f(x)=(2+x)^\\frac{1}{x}$$"
   ]
  },
  {
   "cell_type": "code",
   "execution_count": null,
   "metadata": {},
   "outputs": [],
   "source": []
  }
 ],
 "metadata": {
  "kernelspec": {
   "display_name": "Python 3",
   "language": "python",
   "name": "python3"
  },
  "language_info": {
   "codemirror_mode": {
    "name": "ipython",
    "version": 3
   },
   "file_extension": ".py",
   "mimetype": "text/x-python",
   "name": "python",
   "nbconvert_exporter": "python",
   "pygments_lexer": "ipython3",
   "version": "3.6.5"
  }
 },
 "nbformat": 4,
 "nbformat_minor": 1
}
