{
 "cells": [
  {
   "cell_type": "markdown",
   "metadata": {},
   "source": [
    "#<div class=\"alert alert-success\">1.- Python como calculadora</div>"
   ]
  },
  {
   "cell_type": "markdown",
   "metadata": {},
   "source": [
    "Python es un lenguaje de programación de propósito general pero que se adapta muy bien a la realización de cálculos matemáticos. En general, para realizar ciertas operaciones matemáticas debemos \"cargar\" diversas bibliotecas orientadas al cálculo científico. Sin embargo Python es capaz por si mismo de realizar operaciones matemáticas básicas."
   ]
  },
  {
   "cell_type": "markdown",
   "metadata": {},
   "source": [
    "###<div class=\"alert alert-warning\">Realiza las siguientes operaciones con números enteros:</div>\n",
    "\n",
    "\n",
    "* $5+8$\n",
    "\n",
    "\n",
    "* $7-9$\n",
    "\n",
    "\n",
    "* $56 \\times 45$"
   ]
  },
  {
   "cell_type": "markdown",
   "metadata": {},
   "source": [
    "El operador de potencia en Python es el **doble asterisco**, a diferencia de muchos otros lenguajes y programas de ordenador, donde dicho operador es el circunflejo.\n",
    "\n",
    "Python trabaja con **aritmética exacta en los números enteros**. No hay límite al tamaño de los enteros empleados. Las únicas limitaciones serán las de la máquina que esté ejecutando el programa."
   ]
  },
  {
   "cell_type": "markdown",
   "metadata": {},
   "source": [
    "###<div class=\"alert alert-warning\">Calcula las siguientes potencias:</div>\n",
    "\n",
    "\n",
    "* $2^3$\n",
    "\n",
    "\n",
    "* $(-2)^6$\n",
    "\n",
    "\n",
    "* $-2^8$\n",
    "\n",
    "\n",
    "* $2^{250}$\n"
   ]
  },
  {
   "cell_type": "markdown",
   "metadata": {},
   "source": [
    "**En las operaciones combinadas Python sigue el prioridad estandar de las matemáticas**: primero realiza los paréntesis, después las potencias, posteriormente las multiplicaciones y divisiones y finalmente las sumas y las restas."
   ]
  },
  {
   "cell_type": "markdown",
   "metadata": {},
   "source": [
    "###<div class=\"alert alert-warning\">Realiza las siguientes operaciones combinadas:</div>\n",
    "\n",
    "\n",
    "* $(4+2) \\times 3$\n",
    "\n",
    "\n",
    "* $(3+7-6)\\times (7-5)$\n",
    "\n",
    "\n",
    "* $(3+8)^2-78^2$"
   ]
  },
  {
   "cell_type": "markdown",
   "metadata": {},
   "source": [
    "**El separador de decimales es el punto**. Para introducir números en notación científica separamos con una letra \"e\" la parte decimal y la parte de la potencia de 10."
   ]
  },
  {
   "cell_type": "markdown",
   "metadata": {},
   "source": [
    "###<div class=\"alert alert-warning\">Realiza las siguientes operaciones con números decimales.</div>\n",
    "\n",
    "\n",
    "* $3.56 + 7.9$\n",
    "\n",
    "\n",
    "* $3.56e3 \\times 78.9$\n",
    "\n",
    "\n",
    "* $ 1.5^5 -98.1$"
   ]
  },
  {
   "cell_type": "markdown",
   "metadata": {},
   "source": [
    "**Python es capaz de calcular potencias de exponente negativo y fraccionario**. Por lo tanto es capaz de calcular todo tipo de raíces. Para ello debemos tener en cuenta la identidad:  $\\sqrt[n]{x} = x^\\frac{1}{n}$. Posteriormente veremos otras formas de calcular raíces.\n",
    "\n",
    "**Python no trabaja con aritmética exacta en los números decimales** y por lo tanto se pueden producir errores matemáticos que es preciso tener en cuenta."
   ]
  },
  {
   "cell_type": "markdown",
   "metadata": {},
   "source": [
    "###<div class=\"alert alert-warning\">Calcula las siguientes potencias y raíces:</div>\n",
    "\n",
    "\n",
    "* $2^{-3}$\n",
    "\n",
    "\n",
    "* $\\sqrt{2}$\n",
    "\n",
    "\n",
    "* $\\sqrt[5]{2}$\n",
    "\n",
    "\n",
    "* $\\left(\\sqrt[5]{2}\\right)^5$"
   ]
  },
  {
   "cell_type": "markdown",
   "metadata": {},
   "source": [
    "La división en Python 3 se comporta del modo esperado: al realizar la división de cualquier pareja de números nos el resultado con sus decimales. **Debemos tener cuidado pues en Python 2 esto no es cierto.**"
   ]
  },
  {
   "cell_type": "markdown",
   "metadata": {},
   "source": [
    "###<div class=\"alert alert-warning\">Realiza la siguientes divisiones:</div>\n",
    "\n",
    "\n",
    "* $3/2$\n",
    "\n",
    "\n",
    "* $6/31$\n",
    "\n",
    "\n",
    "* $56.78/23$"
   ]
  },
  {
   "cell_type": "markdown",
   "metadata": {},
   "source": [
    "Además de los operadores asociados a las cuatro operaciones y a las potencias, Python tiene otros dos operadores interesantes: uno es la **división entera o euclidea** (//) y otro el **operador módulo o resto** (%). También se puede utilizar la función **divmod** para obtener ambos resultados."
   ]
  },
  {
   "cell_type": "markdown",
   "metadata": {},
   "source": [
    "###<div class=\"alert alert-warning\">Realiza las siguientes divisiones enteras:</div>\n",
    "\n",
    "\n",
    "* $7 / 4$\n",
    "\n",
    "\n",
    "* $89 /33$\n",
    "\n",
    "\n",
    "* $(-5) / 4$"
   ]
  }
 ],
 "metadata": {
  "kernelspec": {
   "display_name": "Python 3",
   "language": "python",
   "name": "python3"
  },
  "language_info": {
   "codemirror_mode": {
    "name": "ipython",
    "version": 3
   },
   "file_extension": ".py",
   "mimetype": "text/x-python",
   "name": "python",
   "nbconvert_exporter": "python",
   "pygments_lexer": "ipython3",
   "version": "3.6.5"
  }
 },
 "nbformat": 4,
 "nbformat_minor": 1
}
