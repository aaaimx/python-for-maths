{
 "cells": [
  {
   "cell_type": "markdown",
   "metadata": {},
   "source": [
    "#<div class=\"alert alert-success\">Ecuaciones y sistemas</div>"
   ]
  },
  {
   "cell_type": "code",
   "execution_count": 1,
   "metadata": {},
   "outputs": [],
   "source": [
    "from sympy import *\n",
    "init_printing()"
   ]
  },
  {
   "cell_type": "markdown",
   "metadata": {},
   "source": [
    "Sympy puede trabajar con variables simbólicas, pero no por defecto. Si queremos utilizar una letra, debemos \"informar\" a Sympy de ello con la función **symbols**. "
   ]
  },
  {
   "cell_type": "code",
   "execution_count": 2,
   "metadata": {},
   "outputs": [],
   "source": [
    "x=symbols('x')"
   ]
  },
  {
   "cell_type": "markdown",
   "metadata": {},
   "source": [
    "Por defecto, Sympy supone que **todas las ecuaciones están igualadas a cero**, así que si nos encontramos con alguna ecuación que no lo esté, debemos pasar todo a un miembro. El comando fundamental para resolver ecuaciones de modo exacto es **solve**. Si todos los números son enteros o racionales, la solución nos la da de modo exacto si es posible. **Si algún número es decimal, nos da la solución en formato decimal**."
   ]
  },
  {
   "cell_type": "markdown",
   "metadata": {},
   "source": [
    "###<div class=\"alert alert-warning\">Resuelve las siguientes ecuaciones de primer grado:</div>\n",
    "\n",
    "\n",
    "* $3x+6=0$\n",
    "\n",
    "\n",
    "* $4x-8=6$\n",
    "\n",
    "\n",
    "* $5y-7=0$\n",
    "\n",
    "\n",
    "* $\\frac{5x}{7}+\\frac{3}{7}=0$"
   ]
  },
  {
   "cell_type": "code",
   "execution_count": 4,
   "metadata": {},
   "outputs": [],
   "source": [
    "y = symbols('y')"
   ]
  },
  {
   "cell_type": "code",
   "execution_count": 4,
   "metadata": {},
   "outputs": [
    {
     "data": {
      "text/latex": [
       "$$\\begin{bmatrix}- \\frac{3}{5}\\end{bmatrix}$$"
      ],
      "text/plain": [
       "[-3/5]"
      ]
     },
     "execution_count": 4,
     "metadata": {},
     "output_type": "execute_result"
    }
   ],
   "source": [
    "solve(Rational(5,7)*x+Rational(3,7),x, )"
   ]
  },
  {
   "cell_type": "code",
   "execution_count": 4,
   "metadata": {},
   "outputs": [],
   "source": []
  },
  {
   "cell_type": "markdown",
   "metadata": {},
   "source": [
    "Sympy puede resolver ecuaciones de segundo grado, tanto con soluciones reales como complejas. Si la raíz no es exacta, no da el número con radicales. Para obtener el resultado decimal podemos poner un numero en formato decimal."
   ]
  },
  {
   "cell_type": "markdown",
   "metadata": {},
   "source": [
    "###<div class=\"alert alert-warning\">Resuelve las siguientes ecuaciones de segundo grado:</div>\n",
    "\n",
    "\n",
    "* $x^2-5x+6=0$\n",
    "\n",
    "\n",
    "* $x^2-7x+9=0$\n",
    "\n",
    "\n",
    "* $x^2-4x+5=0$"
   ]
  },
  {
   "cell_type": "code",
   "execution_count": 8,
   "metadata": {},
   "outputs": [
    {
     "data": {
      "text/latex": [
       "$$\\begin{bmatrix}1.69722436226801, & 5.30277563773199\\end{bmatrix}$$"
      ],
      "text/plain": [
       "[1.69722436226801, 5.30277563773199]"
      ]
     },
     "execution_count": 8,
     "metadata": {},
     "output_type": "execute_result"
    }
   ],
   "source": [
    "solve(x**2-7.0*x+9,x)"
   ]
  },
  {
   "cell_type": "markdown",
   "metadata": {},
   "source": [
    "Para resolver sistemas lo primero es declarar todas las letras necesarias con la función **symbols**. Después debemos **escribir cada ecuación entre corchetes y separadas por comas**. Como siempre las ecuaciones deben estar igualadas a cero."
   ]
  },
  {
   "cell_type": "markdown",
   "metadata": {},
   "source": [
    "###<div class=\"alert alert-warning\">Resuelve los sistemas, de modo exacto y aproximado:</div>\n",
    "\n",
    "\n",
    "* $\\begin{cases}\n",
    "3x+7y=9\\\\\n",
    "-5x+9y=5\n",
    "\\end{cases}\n",
    "$\n",
    "\n",
    "\n",
    "* $\\begin{cases}\n",
    "x^2-46x=8\\\\\n",
    "-6x+7y=-3\n",
    "\\end{cases}\n",
    "$"
   ]
  },
  {
   "cell_type": "code",
   "execution_count": 6,
   "metadata": {},
   "outputs": [
    {
     "data": {
      "text/latex": [
       "$$\\begin{Bmatrix}x : \\frac{23}{31}, & y : \\frac{30}{31}\\end{Bmatrix}$$"
      ],
      "text/plain": [
       "⎧   23     30⎫\n",
       "⎨x: ──, y: ──⎬\n",
       "⎩   31     31⎭"
      ]
     },
     "execution_count": 6,
     "metadata": {},
     "output_type": "execute_result"
    }
   ],
   "source": [
    "solve([3*x+7*y-9,-5*x+9*y-5])"
   ]
  },
  {
   "cell_type": "code",
   "execution_count": 11,
   "metadata": {},
   "outputs": [
    {
     "data": {
      "text/latex": [
       "$$\\begin{bmatrix}\\begin{Bmatrix}x : -0.173260452512935, & y : -0.57708038786823\\end{Bmatrix}, & \\begin{Bmatrix}x : 46.1732604525129, & y : 39.1485089592968\\end{Bmatrix}\\end{bmatrix}$$"
      ],
      "text/plain": [
       "[{x: -0.173260452512935, y: -0.57708038786823}, {x: 46.1732604525129, y: 39.14\n",
       "85089592968}]"
      ]
     },
     "execution_count": 11,
     "metadata": {},
     "output_type": "execute_result"
    }
   ],
   "source": [
    "solve([x**2 - 46.0*x - 8, -6*x + 7*y+3])"
   ]
  },
  {
   "cell_type": "markdown",
   "metadata": {},
   "source": [
    "Para resolver inecuaciones se utiliza también **solve** y se escribe la inecuación. El resultado de la inecuación debemos interpretarlo."
   ]
  },
  {
   "cell_type": "markdown",
   "metadata": {},
   "source": [
    "###<div class=\"alert alert-warning\">Resuelve las inecuaciones:</div>\n",
    "\n",
    "\n",
    "* $4x-5>9$\n",
    "\n",
    "\n",
    "* $x^2-5x+6 \\geq 0$\n",
    "\n",
    "\n",
    "* $\\displaystyle\\frac{x^2-5x+6}{x^2-6x+8} >0$"
   ]
  },
  {
   "cell_type": "code",
   "execution_count": 15,
   "metadata": {},
   "outputs": [
    {
     "data": {
      "image/png": "[encoded data removed]",
      "text/latex": [
       "$$\\Im{x} = 0 \\wedge \\left(\\Re{x} \\geq 3 \\vee \\Re{x} \\leq 2\\right)$$"
      ],
      "text/plain": [
       "im(x) = 0 ∧ (re(x) ≥ 3 ∨ re(x) ≤ 2)"
      ]
     },
     "execution_count": 15,
     "metadata": {},
     "output_type": "execute_result"
    }
   ],
   "source": [
    "solve(x**2 - 5*x +6 >= 0)"
   ]
  },
  {
   "cell_type": "markdown",
   "metadata": {},
   "source": [
    "###<div class=\"alert alert-warning\">Resuelve la ecuación general de segundo grado.</div>"
   ]
  },
  {
   "cell_type": "code",
   "execution_count": 39,
   "metadata": {},
   "outputs": [
    {
     "data": {
      "image/png": "[encoded data removed]",
      "text/latex": [
       "$$\\Im{x} = 0 \\wedge \\left(\\left(\\Re{x} \\leq 3 \\wedge 2 < \\Re{x}\\right) \\vee \\Re{x} > 4 \\vee \\Re{x} < 2\\right)$$"
      ],
      "text/plain": [
       "im(x) = 0 ∧ ((re(x) ≤ 3 ∧ 2 < re(x)) ∨ re(x) > 4 ∨ re(x) < 2)"
      ]
     },
     "execution_count": 39,
     "metadata": {},
     "output_type": "execute_result"
    }
   ],
   "source": [
    "solve((x**2-5*x+6)/(x**2-6*x+8)>=0)"
   ]
  },
  {
   "cell_type": "code",
   "execution_count": null,
   "metadata": {},
   "outputs": [],
   "source": []
  }
 ],
 "metadata": {
  "kernelspec": {
   "display_name": "Python 3",
   "language": "python",
   "name": "python3"
  },
  "language_info": {
   "codemirror_mode": {
    "name": "ipython",
    "version": 3
   },
   "file_extension": ".py",
   "mimetype": "text/x-python",
   "name": "python",
   "nbconvert_exporter": "python",
   "pygments_lexer": "ipython3",
   "version": "3.6.5"
  }
 },
 "nbformat": 4,
 "nbformat_minor": 1
}
